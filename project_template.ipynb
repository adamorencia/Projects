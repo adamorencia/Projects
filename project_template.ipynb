{
 "cells": [
  {
   "cell_type": "markdown",
   "metadata": {},
   "source": [
    "# STAT207 Final Project - Exploring the Relationship Between Stroke Incidence and BMI: Through Linear Regression, Logistic Regression and Hypothesis Testing\n",
    "\n",
    "Adam Orencia - adamto2\n",
    "Kat Souleles - ks89"
   ]
  },
  {
   "cell_type": "markdown",
   "metadata": {},
   "source": [
    "## 1. Introduction"
   ]
  },
  {
   "cell_type": "markdown",
   "metadata": {},
   "source": [
    "Dataset explanation: \n",
    "In the United States, the annual incidence of stroke is approximately 795,000, of which approximately 610,000 are first-ever stroke events\n",
    "https://www.ncbi.nlm.nih.gov/pmc/articles/PMC8308685/\n",
    "\n",
    "Undersatnding the correlation between BMI and other personal factors can provide valuable insights for medical research and aid in taking preventative measures to protect individuals from strokes and other health risks.\n",
    " "
   ]
  },
  {
   "cell_type": "markdown",
   "metadata": {},
   "source": [
    "Research Questions:\n",
    "\n",
    "Linear Regression - \n",
    "\n",
    "- Is there a linear relationship between an indivdiauls BMI and their gender, age, average glucose level, and their hypertension?\n",
    "\n",
    "- What variables should be included to build a parsimonious model for predicting BMI?\n",
    "\n",
    "Logistic Regression - \n",
    "\n",
    "- Is there a linear relationship between an individuals age, having hypertension, BMI, and average glucose level, and the likelihood of an individual having a stroke? \n",
    "- How well will our logistic model perform on training data?\n",
    "- How will will our logisitc model perform on new data? \n",
    "\n",
    "Inference Research Question - \n",
    "-  What is the relationship between stroke (categorical) and BMI in our dataset?\n",
    "- Is there a significant association between BMI and the occurence of stroke in the population based on sample data? "
   ]
  },
  {
   "cell_type": "markdown",
   "metadata": {},
   "source": [
    "Understanding how BMI relates to the variables mentioned above can be beneficial for medical research and understanding connections within the human body. This information can be used to identify individuals that are at a higher risk for strokes and benefit them by increasing awareness and receiving care earlier on. Creating these models could be used to create helpful predictions to determine whether or not an individual is at risk for a stroke. "
   ]
  },
  {
   "cell_type": "markdown",
   "metadata": {},
   "source": [
    "Missing values, Limitations, Ethics\n",
    "\n",
    "One limitation that exists within our data is that we have limited variables, meaning there could be other factors in the human body or our environment that contribute to an individual's likelihood of having a stroke that were not included. Another limitation is that the data is unbalanced. Based on the sample, the number of people who have had strokes are underepresented. We were able to counteract this limitation in our analysis by randomly sampling roughly 1000 individuals from the data and were able to increase the stroke representation from about 4% to nearly 16%. This was very important when it came to creating models and allowing our regression techniques to be as accurate as possible.\n",
    "\n",
    "Regarding the dataset itself, there may be ethical concerns about consent and confidentiality. But this dataset was collected by the World Health Organization in an anonymous manner, eliminating any risks to subjects within it. "
   ]
  },
  {
   "cell_type": "code",
   "execution_count": 3,
   "metadata": {},
   "outputs": [],
   "source": [
    "#Imports here\n",
    "import pandas as pd\n",
    "import matplotlib.pyplot as plt\n",
    "import numpy as np\n",
    "import seaborn as sns; sns.set()\n",
    "from sklearn.model_selection import train_test_split\n",
    "from sklearn.linear_model import LinearRegression\n",
    "import statsmodels.formula.api as smf"
   ]
  },
  {
   "cell_type": "code",
   "execution_count": 5,
   "metadata": {},
   "outputs": [
    {
     "data": {
      "text/html": [
       "<div>\n",
       "<style scoped>\n",
       "    .dataframe tbody tr th:only-of-type {\n",
       "        vertical-align: middle;\n",
       "    }\n",
       "\n",
       "    .dataframe tbody tr th {\n",
       "        vertical-align: top;\n",
       "    }\n",
       "\n",
       "    .dataframe thead th {\n",
       "        text-align: right;\n",
       "    }\n",
       "</style>\n",
       "<table border=\"1\" class=\"dataframe\">\n",
       "  <thead>\n",
       "    <tr style=\"text-align: right;\">\n",
       "      <th></th>\n",
       "      <th>id</th>\n",
       "      <th>gender</th>\n",
       "      <th>age</th>\n",
       "      <th>hypertension</th>\n",
       "      <th>heart_disease</th>\n",
       "      <th>ever_married</th>\n",
       "      <th>work_type</th>\n",
       "      <th>Residence_type</th>\n",
       "      <th>avg_glucose_level</th>\n",
       "      <th>bmi</th>\n",
       "      <th>smoking_status</th>\n",
       "      <th>stroke</th>\n",
       "    </tr>\n",
       "  </thead>\n",
       "  <tbody>\n",
       "    <tr>\n",
       "      <th>0</th>\n",
       "      <td>9046</td>\n",
       "      <td>Male</td>\n",
       "      <td>67.0</td>\n",
       "      <td>0</td>\n",
       "      <td>1</td>\n",
       "      <td>Yes</td>\n",
       "      <td>Private</td>\n",
       "      <td>Urban</td>\n",
       "      <td>228.69</td>\n",
       "      <td>36.6</td>\n",
       "      <td>formerly smoked</td>\n",
       "      <td>1</td>\n",
       "    </tr>\n",
       "    <tr>\n",
       "      <th>1</th>\n",
       "      <td>51676</td>\n",
       "      <td>Female</td>\n",
       "      <td>61.0</td>\n",
       "      <td>0</td>\n",
       "      <td>0</td>\n",
       "      <td>Yes</td>\n",
       "      <td>Self-employed</td>\n",
       "      <td>Rural</td>\n",
       "      <td>202.21</td>\n",
       "      <td>NaN</td>\n",
       "      <td>never smoked</td>\n",
       "      <td>1</td>\n",
       "    </tr>\n",
       "    <tr>\n",
       "      <th>2</th>\n",
       "      <td>31112</td>\n",
       "      <td>Male</td>\n",
       "      <td>80.0</td>\n",
       "      <td>0</td>\n",
       "      <td>1</td>\n",
       "      <td>Yes</td>\n",
       "      <td>Private</td>\n",
       "      <td>Rural</td>\n",
       "      <td>105.92</td>\n",
       "      <td>32.5</td>\n",
       "      <td>never smoked</td>\n",
       "      <td>1</td>\n",
       "    </tr>\n",
       "    <tr>\n",
       "      <th>3</th>\n",
       "      <td>60182</td>\n",
       "      <td>Female</td>\n",
       "      <td>49.0</td>\n",
       "      <td>0</td>\n",
       "      <td>0</td>\n",
       "      <td>Yes</td>\n",
       "      <td>Private</td>\n",
       "      <td>Urban</td>\n",
       "      <td>171.23</td>\n",
       "      <td>34.4</td>\n",
       "      <td>smokes</td>\n",
       "      <td>1</td>\n",
       "    </tr>\n",
       "    <tr>\n",
       "      <th>4</th>\n",
       "      <td>1665</td>\n",
       "      <td>Female</td>\n",
       "      <td>79.0</td>\n",
       "      <td>1</td>\n",
       "      <td>0</td>\n",
       "      <td>Yes</td>\n",
       "      <td>Self-employed</td>\n",
       "      <td>Rural</td>\n",
       "      <td>174.12</td>\n",
       "      <td>24.0</td>\n",
       "      <td>never smoked</td>\n",
       "      <td>1</td>\n",
       "    </tr>\n",
       "    <tr>\n",
       "      <th>5</th>\n",
       "      <td>56669</td>\n",
       "      <td>Male</td>\n",
       "      <td>81.0</td>\n",
       "      <td>0</td>\n",
       "      <td>0</td>\n",
       "      <td>Yes</td>\n",
       "      <td>Private</td>\n",
       "      <td>Urban</td>\n",
       "      <td>186.21</td>\n",
       "      <td>29.0</td>\n",
       "      <td>formerly smoked</td>\n",
       "      <td>1</td>\n",
       "    </tr>\n",
       "  </tbody>\n",
       "</table>\n",
       "</div>"
      ],
      "text/plain": [
       "      id  gender   age  hypertension  heart_disease ever_married  \\\n",
       "0   9046    Male  67.0             0              1          Yes   \n",
       "1  51676  Female  61.0             0              0          Yes   \n",
       "2  31112    Male  80.0             0              1          Yes   \n",
       "3  60182  Female  49.0             0              0          Yes   \n",
       "4   1665  Female  79.0             1              0          Yes   \n",
       "5  56669    Male  81.0             0              0          Yes   \n",
       "\n",
       "       work_type Residence_type  avg_glucose_level   bmi   smoking_status  \\\n",
       "0        Private          Urban             228.69  36.6  formerly smoked   \n",
       "1  Self-employed          Rural             202.21   NaN     never smoked   \n",
       "2        Private          Rural             105.92  32.5     never smoked   \n",
       "3        Private          Urban             171.23  34.4           smokes   \n",
       "4  Self-employed          Rural             174.12  24.0     never smoked   \n",
       "5        Private          Urban             186.21  29.0  formerly smoked   \n",
       "\n",
       "   stroke  \n",
       "0       1  \n",
       "1       1  \n",
       "2       1  \n",
       "3       1  \n",
       "4       1  \n",
       "5       1  "
      ]
     },
     "execution_count": 5,
     "metadata": {},
     "output_type": "execute_result"
    }
   ],
   "source": [
    "df = pd.read_csv(\"stroke.csv\")\n",
    "df.head(6)"
   ]
  },
  {
   "cell_type": "markdown",
   "metadata": {},
   "source": [
    "Missing Values: "
   ]
  },
  {
   "cell_type": "code",
   "execution_count": 71,
   "metadata": {},
   "outputs": [
    {
     "data": {
      "text/plain": [
       "id                     0\n",
       "gender                 0\n",
       "age                    0\n",
       "hypertension           0\n",
       "heart_disease          0\n",
       "ever_married           0\n",
       "work_type              0\n",
       "Residence_type         0\n",
       "avg_glucose_level      0\n",
       "bmi                  201\n",
       "smoking_status         0\n",
       "stroke                 0\n",
       "dtype: int64"
      ]
     },
     "execution_count": 71,
     "metadata": {},
     "output_type": "execute_result"
    }
   ],
   "source": [
    "df.isnull().sum()"
   ]
  },
  {
   "cell_type": "code",
   "execution_count": 308,
   "metadata": {},
   "outputs": [
    {
     "data": {
      "text/html": [
       "<div>\n",
       "<style scoped>\n",
       "    .dataframe tbody tr th:only-of-type {\n",
       "        vertical-align: middle;\n",
       "    }\n",
       "\n",
       "    .dataframe tbody tr th {\n",
       "        vertical-align: top;\n",
       "    }\n",
       "\n",
       "    .dataframe thead th {\n",
       "        text-align: right;\n",
       "    }\n",
       "</style>\n",
       "<table border=\"1\" class=\"dataframe\">\n",
       "  <thead>\n",
       "    <tr style=\"text-align: right;\">\n",
       "      <th></th>\n",
       "      <th>id</th>\n",
       "      <th>gender</th>\n",
       "      <th>age</th>\n",
       "      <th>hypertension</th>\n",
       "      <th>heart_disease</th>\n",
       "      <th>ever_married</th>\n",
       "      <th>work_type</th>\n",
       "      <th>Residence_type</th>\n",
       "      <th>avg_glucose_level</th>\n",
       "      <th>bmi</th>\n",
       "      <th>smoking_status</th>\n",
       "      <th>stroke</th>\n",
       "    </tr>\n",
       "  </thead>\n",
       "  <tbody>\n",
       "    <tr>\n",
       "      <th>0</th>\n",
       "      <td>9046</td>\n",
       "      <td>Male</td>\n",
       "      <td>67.0</td>\n",
       "      <td>0</td>\n",
       "      <td>1</td>\n",
       "      <td>Yes</td>\n",
       "      <td>Private</td>\n",
       "      <td>Urban</td>\n",
       "      <td>228.69</td>\n",
       "      <td>36.6</td>\n",
       "      <td>formerly smoked</td>\n",
       "      <td>1</td>\n",
       "    </tr>\n",
       "    <tr>\n",
       "      <th>2</th>\n",
       "      <td>31112</td>\n",
       "      <td>Male</td>\n",
       "      <td>80.0</td>\n",
       "      <td>0</td>\n",
       "      <td>1</td>\n",
       "      <td>Yes</td>\n",
       "      <td>Private</td>\n",
       "      <td>Rural</td>\n",
       "      <td>105.92</td>\n",
       "      <td>32.5</td>\n",
       "      <td>never smoked</td>\n",
       "      <td>1</td>\n",
       "    </tr>\n",
       "    <tr>\n",
       "      <th>3</th>\n",
       "      <td>60182</td>\n",
       "      <td>Female</td>\n",
       "      <td>49.0</td>\n",
       "      <td>0</td>\n",
       "      <td>0</td>\n",
       "      <td>Yes</td>\n",
       "      <td>Private</td>\n",
       "      <td>Urban</td>\n",
       "      <td>171.23</td>\n",
       "      <td>34.4</td>\n",
       "      <td>smokes</td>\n",
       "      <td>1</td>\n",
       "    </tr>\n",
       "    <tr>\n",
       "      <th>4</th>\n",
       "      <td>1665</td>\n",
       "      <td>Female</td>\n",
       "      <td>79.0</td>\n",
       "      <td>1</td>\n",
       "      <td>0</td>\n",
       "      <td>Yes</td>\n",
       "      <td>Self-employed</td>\n",
       "      <td>Rural</td>\n",
       "      <td>174.12</td>\n",
       "      <td>24.0</td>\n",
       "      <td>never smoked</td>\n",
       "      <td>1</td>\n",
       "    </tr>\n",
       "    <tr>\n",
       "      <th>5</th>\n",
       "      <td>56669</td>\n",
       "      <td>Male</td>\n",
       "      <td>81.0</td>\n",
       "      <td>0</td>\n",
       "      <td>0</td>\n",
       "      <td>Yes</td>\n",
       "      <td>Private</td>\n",
       "      <td>Urban</td>\n",
       "      <td>186.21</td>\n",
       "      <td>29.0</td>\n",
       "      <td>formerly smoked</td>\n",
       "      <td>1</td>\n",
       "    </tr>\n",
       "    <tr>\n",
       "      <th>...</th>\n",
       "      <td>...</td>\n",
       "      <td>...</td>\n",
       "      <td>...</td>\n",
       "      <td>...</td>\n",
       "      <td>...</td>\n",
       "      <td>...</td>\n",
       "      <td>...</td>\n",
       "      <td>...</td>\n",
       "      <td>...</td>\n",
       "      <td>...</td>\n",
       "      <td>...</td>\n",
       "      <td>...</td>\n",
       "    </tr>\n",
       "    <tr>\n",
       "      <th>5104</th>\n",
       "      <td>14180</td>\n",
       "      <td>Female</td>\n",
       "      <td>13.0</td>\n",
       "      <td>0</td>\n",
       "      <td>0</td>\n",
       "      <td>No</td>\n",
       "      <td>children</td>\n",
       "      <td>Rural</td>\n",
       "      <td>103.08</td>\n",
       "      <td>18.6</td>\n",
       "      <td>Unknown</td>\n",
       "      <td>0</td>\n",
       "    </tr>\n",
       "    <tr>\n",
       "      <th>5106</th>\n",
       "      <td>44873</td>\n",
       "      <td>Female</td>\n",
       "      <td>81.0</td>\n",
       "      <td>0</td>\n",
       "      <td>0</td>\n",
       "      <td>Yes</td>\n",
       "      <td>Self-employed</td>\n",
       "      <td>Urban</td>\n",
       "      <td>125.20</td>\n",
       "      <td>40.0</td>\n",
       "      <td>never smoked</td>\n",
       "      <td>0</td>\n",
       "    </tr>\n",
       "    <tr>\n",
       "      <th>5107</th>\n",
       "      <td>19723</td>\n",
       "      <td>Female</td>\n",
       "      <td>35.0</td>\n",
       "      <td>0</td>\n",
       "      <td>0</td>\n",
       "      <td>Yes</td>\n",
       "      <td>Self-employed</td>\n",
       "      <td>Rural</td>\n",
       "      <td>82.99</td>\n",
       "      <td>30.6</td>\n",
       "      <td>never smoked</td>\n",
       "      <td>0</td>\n",
       "    </tr>\n",
       "    <tr>\n",
       "      <th>5108</th>\n",
       "      <td>37544</td>\n",
       "      <td>Male</td>\n",
       "      <td>51.0</td>\n",
       "      <td>0</td>\n",
       "      <td>0</td>\n",
       "      <td>Yes</td>\n",
       "      <td>Private</td>\n",
       "      <td>Rural</td>\n",
       "      <td>166.29</td>\n",
       "      <td>25.6</td>\n",
       "      <td>formerly smoked</td>\n",
       "      <td>0</td>\n",
       "    </tr>\n",
       "    <tr>\n",
       "      <th>5109</th>\n",
       "      <td>44679</td>\n",
       "      <td>Female</td>\n",
       "      <td>44.0</td>\n",
       "      <td>0</td>\n",
       "      <td>0</td>\n",
       "      <td>Yes</td>\n",
       "      <td>Govt_job</td>\n",
       "      <td>Urban</td>\n",
       "      <td>85.28</td>\n",
       "      <td>26.2</td>\n",
       "      <td>Unknown</td>\n",
       "      <td>0</td>\n",
       "    </tr>\n",
       "  </tbody>\n",
       "</table>\n",
       "<p>4909 rows × 12 columns</p>\n",
       "</div>"
      ],
      "text/plain": [
       "         id  gender   age  hypertension  heart_disease ever_married  \\\n",
       "0      9046    Male  67.0             0              1          Yes   \n",
       "2     31112    Male  80.0             0              1          Yes   \n",
       "3     60182  Female  49.0             0              0          Yes   \n",
       "4      1665  Female  79.0             1              0          Yes   \n",
       "5     56669    Male  81.0             0              0          Yes   \n",
       "...     ...     ...   ...           ...            ...          ...   \n",
       "5104  14180  Female  13.0             0              0           No   \n",
       "5106  44873  Female  81.0             0              0          Yes   \n",
       "5107  19723  Female  35.0             0              0          Yes   \n",
       "5108  37544    Male  51.0             0              0          Yes   \n",
       "5109  44679  Female  44.0             0              0          Yes   \n",
       "\n",
       "          work_type Residence_type  avg_glucose_level   bmi   smoking_status  \\\n",
       "0           Private          Urban             228.69  36.6  formerly smoked   \n",
       "2           Private          Rural             105.92  32.5     never smoked   \n",
       "3           Private          Urban             171.23  34.4           smokes   \n",
       "4     Self-employed          Rural             174.12  24.0     never smoked   \n",
       "5           Private          Urban             186.21  29.0  formerly smoked   \n",
       "...             ...            ...                ...   ...              ...   \n",
       "5104       children          Rural             103.08  18.6          Unknown   \n",
       "5106  Self-employed          Urban             125.20  40.0     never smoked   \n",
       "5107  Self-employed          Rural              82.99  30.6     never smoked   \n",
       "5108        Private          Rural             166.29  25.6  formerly smoked   \n",
       "5109       Govt_job          Urban              85.28  26.2          Unknown   \n",
       "\n",
       "      stroke  \n",
       "0          1  \n",
       "2          1  \n",
       "3          1  \n",
       "4          1  \n",
       "5          1  \n",
       "...      ...  \n",
       "5104       0  \n",
       "5106       0  \n",
       "5107       0  \n",
       "5108       0  \n",
       "5109       0  \n",
       "\n",
       "[4909 rows x 12 columns]"
      ]
     },
     "execution_count": 308,
     "metadata": {},
     "output_type": "execute_result"
    }
   ],
   "source": [
    "#Dropping Missing Values from dataset\n",
    "df = df.dropna()\n",
    "df"
   ]
  },
  {
   "cell_type": "code",
   "execution_count": 73,
   "metadata": {},
   "outputs": [
    {
     "data": {
      "text/plain": [
       "Female    2897\n",
       "Male      2011\n",
       "Other        1\n",
       "Name: gender, dtype: int64"
      ]
     },
     "execution_count": 73,
     "metadata": {},
     "output_type": "execute_result"
    }
   ],
   "source": [
    "df['gender'].value_counts()"
   ]
  },
  {
   "cell_type": "markdown",
   "metadata": {},
   "source": [
    "Dropping the 1 'other', not helpful for data. "
   ]
  },
  {
   "cell_type": "code",
   "execution_count": 6,
   "metadata": {},
   "outputs": [
    {
     "data": {
      "text/html": [
       "<div>\n",
       "<style scoped>\n",
       "    .dataframe tbody tr th:only-of-type {\n",
       "        vertical-align: middle;\n",
       "    }\n",
       "\n",
       "    .dataframe tbody tr th {\n",
       "        vertical-align: top;\n",
       "    }\n",
       "\n",
       "    .dataframe thead th {\n",
       "        text-align: right;\n",
       "    }\n",
       "</style>\n",
       "<table border=\"1\" class=\"dataframe\">\n",
       "  <thead>\n",
       "    <tr style=\"text-align: right;\">\n",
       "      <th></th>\n",
       "      <th>id</th>\n",
       "      <th>gender</th>\n",
       "      <th>age</th>\n",
       "      <th>hypertension</th>\n",
       "      <th>heart_disease</th>\n",
       "      <th>ever_married</th>\n",
       "      <th>work_type</th>\n",
       "      <th>Residence_type</th>\n",
       "      <th>avg_glucose_level</th>\n",
       "      <th>bmi</th>\n",
       "      <th>smoking_status</th>\n",
       "      <th>stroke</th>\n",
       "    </tr>\n",
       "  </thead>\n",
       "  <tbody>\n",
       "    <tr>\n",
       "      <th>0</th>\n",
       "      <td>9046</td>\n",
       "      <td>Male</td>\n",
       "      <td>67.0</td>\n",
       "      <td>0</td>\n",
       "      <td>1</td>\n",
       "      <td>Yes</td>\n",
       "      <td>Private</td>\n",
       "      <td>Urban</td>\n",
       "      <td>228.69</td>\n",
       "      <td>36.6</td>\n",
       "      <td>formerly smoked</td>\n",
       "      <td>1</td>\n",
       "    </tr>\n",
       "    <tr>\n",
       "      <th>1</th>\n",
       "      <td>51676</td>\n",
       "      <td>Female</td>\n",
       "      <td>61.0</td>\n",
       "      <td>0</td>\n",
       "      <td>0</td>\n",
       "      <td>Yes</td>\n",
       "      <td>Self-employed</td>\n",
       "      <td>Rural</td>\n",
       "      <td>202.21</td>\n",
       "      <td>NaN</td>\n",
       "      <td>never smoked</td>\n",
       "      <td>1</td>\n",
       "    </tr>\n",
       "    <tr>\n",
       "      <th>2</th>\n",
       "      <td>31112</td>\n",
       "      <td>Male</td>\n",
       "      <td>80.0</td>\n",
       "      <td>0</td>\n",
       "      <td>1</td>\n",
       "      <td>Yes</td>\n",
       "      <td>Private</td>\n",
       "      <td>Rural</td>\n",
       "      <td>105.92</td>\n",
       "      <td>32.5</td>\n",
       "      <td>never smoked</td>\n",
       "      <td>1</td>\n",
       "    </tr>\n",
       "    <tr>\n",
       "      <th>3</th>\n",
       "      <td>60182</td>\n",
       "      <td>Female</td>\n",
       "      <td>49.0</td>\n",
       "      <td>0</td>\n",
       "      <td>0</td>\n",
       "      <td>Yes</td>\n",
       "      <td>Private</td>\n",
       "      <td>Urban</td>\n",
       "      <td>171.23</td>\n",
       "      <td>34.4</td>\n",
       "      <td>smokes</td>\n",
       "      <td>1</td>\n",
       "    </tr>\n",
       "    <tr>\n",
       "      <th>4</th>\n",
       "      <td>1665</td>\n",
       "      <td>Female</td>\n",
       "      <td>79.0</td>\n",
       "      <td>1</td>\n",
       "      <td>0</td>\n",
       "      <td>Yes</td>\n",
       "      <td>Self-employed</td>\n",
       "      <td>Rural</td>\n",
       "      <td>174.12</td>\n",
       "      <td>24.0</td>\n",
       "      <td>never smoked</td>\n",
       "      <td>1</td>\n",
       "    </tr>\n",
       "    <tr>\n",
       "      <th>...</th>\n",
       "      <td>...</td>\n",
       "      <td>...</td>\n",
       "      <td>...</td>\n",
       "      <td>...</td>\n",
       "      <td>...</td>\n",
       "      <td>...</td>\n",
       "      <td>...</td>\n",
       "      <td>...</td>\n",
       "      <td>...</td>\n",
       "      <td>...</td>\n",
       "      <td>...</td>\n",
       "      <td>...</td>\n",
       "    </tr>\n",
       "    <tr>\n",
       "      <th>5105</th>\n",
       "      <td>18234</td>\n",
       "      <td>Female</td>\n",
       "      <td>80.0</td>\n",
       "      <td>1</td>\n",
       "      <td>0</td>\n",
       "      <td>Yes</td>\n",
       "      <td>Private</td>\n",
       "      <td>Urban</td>\n",
       "      <td>83.75</td>\n",
       "      <td>NaN</td>\n",
       "      <td>never smoked</td>\n",
       "      <td>0</td>\n",
       "    </tr>\n",
       "    <tr>\n",
       "      <th>5106</th>\n",
       "      <td>44873</td>\n",
       "      <td>Female</td>\n",
       "      <td>81.0</td>\n",
       "      <td>0</td>\n",
       "      <td>0</td>\n",
       "      <td>Yes</td>\n",
       "      <td>Self-employed</td>\n",
       "      <td>Urban</td>\n",
       "      <td>125.20</td>\n",
       "      <td>40.0</td>\n",
       "      <td>never smoked</td>\n",
       "      <td>0</td>\n",
       "    </tr>\n",
       "    <tr>\n",
       "      <th>5107</th>\n",
       "      <td>19723</td>\n",
       "      <td>Female</td>\n",
       "      <td>35.0</td>\n",
       "      <td>0</td>\n",
       "      <td>0</td>\n",
       "      <td>Yes</td>\n",
       "      <td>Self-employed</td>\n",
       "      <td>Rural</td>\n",
       "      <td>82.99</td>\n",
       "      <td>30.6</td>\n",
       "      <td>never smoked</td>\n",
       "      <td>0</td>\n",
       "    </tr>\n",
       "    <tr>\n",
       "      <th>5108</th>\n",
       "      <td>37544</td>\n",
       "      <td>Male</td>\n",
       "      <td>51.0</td>\n",
       "      <td>0</td>\n",
       "      <td>0</td>\n",
       "      <td>Yes</td>\n",
       "      <td>Private</td>\n",
       "      <td>Rural</td>\n",
       "      <td>166.29</td>\n",
       "      <td>25.6</td>\n",
       "      <td>formerly smoked</td>\n",
       "      <td>0</td>\n",
       "    </tr>\n",
       "    <tr>\n",
       "      <th>5109</th>\n",
       "      <td>44679</td>\n",
       "      <td>Female</td>\n",
       "      <td>44.0</td>\n",
       "      <td>0</td>\n",
       "      <td>0</td>\n",
       "      <td>Yes</td>\n",
       "      <td>Govt_job</td>\n",
       "      <td>Urban</td>\n",
       "      <td>85.28</td>\n",
       "      <td>26.2</td>\n",
       "      <td>Unknown</td>\n",
       "      <td>0</td>\n",
       "    </tr>\n",
       "  </tbody>\n",
       "</table>\n",
       "<p>5109 rows × 12 columns</p>\n",
       "</div>"
      ],
      "text/plain": [
       "         id  gender   age  hypertension  heart_disease ever_married  \\\n",
       "0      9046    Male  67.0             0              1          Yes   \n",
       "1     51676  Female  61.0             0              0          Yes   \n",
       "2     31112    Male  80.0             0              1          Yes   \n",
       "3     60182  Female  49.0             0              0          Yes   \n",
       "4      1665  Female  79.0             1              0          Yes   \n",
       "...     ...     ...   ...           ...            ...          ...   \n",
       "5105  18234  Female  80.0             1              0          Yes   \n",
       "5106  44873  Female  81.0             0              0          Yes   \n",
       "5107  19723  Female  35.0             0              0          Yes   \n",
       "5108  37544    Male  51.0             0              0          Yes   \n",
       "5109  44679  Female  44.0             0              0          Yes   \n",
       "\n",
       "          work_type Residence_type  avg_glucose_level   bmi   smoking_status  \\\n",
       "0           Private          Urban             228.69  36.6  formerly smoked   \n",
       "1     Self-employed          Rural             202.21   NaN     never smoked   \n",
       "2           Private          Rural             105.92  32.5     never smoked   \n",
       "3           Private          Urban             171.23  34.4           smokes   \n",
       "4     Self-employed          Rural             174.12  24.0     never smoked   \n",
       "...             ...            ...                ...   ...              ...   \n",
       "5105        Private          Urban              83.75   NaN     never smoked   \n",
       "5106  Self-employed          Urban             125.20  40.0     never smoked   \n",
       "5107  Self-employed          Rural              82.99  30.6     never smoked   \n",
       "5108        Private          Rural             166.29  25.6  formerly smoked   \n",
       "5109       Govt_job          Urban              85.28  26.2          Unknown   \n",
       "\n",
       "      stroke  \n",
       "0          1  \n",
       "1          1  \n",
       "2          1  \n",
       "3          1  \n",
       "4          1  \n",
       "...      ...  \n",
       "5105       0  \n",
       "5106       0  \n",
       "5107       0  \n",
       "5108       0  \n",
       "5109       0  \n",
       "\n",
       "[5109 rows x 12 columns]"
      ]
     },
     "execution_count": 6,
     "metadata": {},
     "output_type": "execute_result"
    }
   ],
   "source": [
    "#The gender variable has one 'other' \n",
    "#we will drop this 1 as it should not have any statistical significance.\n",
    "df = df[df['gender'] != 'Other']\n",
    "df"
   ]
  },
  {
   "cell_type": "code",
   "execution_count": 35,
   "metadata": {},
   "outputs": [
    {
     "name": "stdout",
     "output_type": "stream",
     "text": [
      "No     0.957416\n",
      "Yes    0.042584\n",
      "Name: stroke, dtype: float64\n"
     ]
    }
   ],
   "source": [
    "print(df['stroke'].value_counts(normalize=True))"
   ]
  },
  {
   "cell_type": "markdown",
   "metadata": {},
   "source": [
    "The code above shows the underrepresentation of people who have had strokes in our dataset at just ~4%. This concern was addressed thoroughly before logisitc regression and should not have any major affects on linear regression. "
   ]
  },
  {
   "cell_type": "markdown",
   "metadata": {},
   "source": [
    "## 2. Linear Regression and Feature Selection"
   ]
  },
  {
   "cell_type": "markdown",
   "metadata": {},
   "source": [
    "BMI is a measure of one's body weight in relation to their height and it can be a helpful indicator of possible health risks. By evaluating one's BMI we can further understand health trends and effectively identify at-risk groups in the population. \n",
    "\n",
    "In a study : Higher BMI (overweight or obese group) was associated with an increased overall risk of stroke : https://pubmed.ncbi.nlm.nih.gov/35971008/\n",
    "\n",
    "Now that we understand the potential relationship between BMI and having a stroke, its time for us to explore this BMI variable more in-depth. \n",
    "\n",
    "We started by selecting four variables we thought may have a larger effect on BMI just off first glance and built an initial model with them. \n",
    "\n",
    "Research Question: \n",
    "\n",
    "Is there a linear relationship between an indivdiauls BMI and their gender, age, average glucose level, and their hypertension? \n",
    "\n",
    "From here we were interested in building the best possible model rather than randomly selecting four variables, which left us with this question.\n",
    "\n",
    "\n",
    "Research Question 2:\n",
    "\n",
    "What variables should be included to build a parsimonious model for predicting bmi?"
   ]
  },
  {
   "cell_type": "code",
   "execution_count": 80,
   "metadata": {},
   "outputs": [
    {
     "data": {
      "text/html": [
       "<div>\n",
       "<style scoped>\n",
       "    .dataframe tbody tr th:only-of-type {\n",
       "        vertical-align: middle;\n",
       "    }\n",
       "\n",
       "    .dataframe tbody tr th {\n",
       "        vertical-align: top;\n",
       "    }\n",
       "\n",
       "    .dataframe thead th {\n",
       "        text-align: right;\n",
       "    }\n",
       "</style>\n",
       "<table border=\"1\" class=\"dataframe\">\n",
       "  <thead>\n",
       "    <tr style=\"text-align: right;\">\n",
       "      <th></th>\n",
       "      <th>id</th>\n",
       "      <th>gender</th>\n",
       "      <th>age</th>\n",
       "      <th>hypertension</th>\n",
       "      <th>heart_disease</th>\n",
       "      <th>ever_married</th>\n",
       "      <th>work_type</th>\n",
       "      <th>Residence_type</th>\n",
       "      <th>avg_glucose_level</th>\n",
       "      <th>bmi</th>\n",
       "      <th>smoking_status</th>\n",
       "      <th>stroke</th>\n",
       "    </tr>\n",
       "  </thead>\n",
       "  <tbody>\n",
       "    <tr>\n",
       "      <th>0</th>\n",
       "      <td>9046</td>\n",
       "      <td>Male</td>\n",
       "      <td>67.0</td>\n",
       "      <td>0</td>\n",
       "      <td>1</td>\n",
       "      <td>Yes</td>\n",
       "      <td>Private</td>\n",
       "      <td>Urban</td>\n",
       "      <td>228.69</td>\n",
       "      <td>36.6</td>\n",
       "      <td>formerly smoked</td>\n",
       "      <td>1</td>\n",
       "    </tr>\n",
       "    <tr>\n",
       "      <th>2</th>\n",
       "      <td>31112</td>\n",
       "      <td>Male</td>\n",
       "      <td>80.0</td>\n",
       "      <td>0</td>\n",
       "      <td>1</td>\n",
       "      <td>Yes</td>\n",
       "      <td>Private</td>\n",
       "      <td>Rural</td>\n",
       "      <td>105.92</td>\n",
       "      <td>32.5</td>\n",
       "      <td>never smoked</td>\n",
       "      <td>1</td>\n",
       "    </tr>\n",
       "    <tr>\n",
       "      <th>3</th>\n",
       "      <td>60182</td>\n",
       "      <td>Female</td>\n",
       "      <td>49.0</td>\n",
       "      <td>0</td>\n",
       "      <td>0</td>\n",
       "      <td>Yes</td>\n",
       "      <td>Private</td>\n",
       "      <td>Urban</td>\n",
       "      <td>171.23</td>\n",
       "      <td>34.4</td>\n",
       "      <td>smokes</td>\n",
       "      <td>1</td>\n",
       "    </tr>\n",
       "    <tr>\n",
       "      <th>4</th>\n",
       "      <td>1665</td>\n",
       "      <td>Female</td>\n",
       "      <td>79.0</td>\n",
       "      <td>1</td>\n",
       "      <td>0</td>\n",
       "      <td>Yes</td>\n",
       "      <td>Self-employed</td>\n",
       "      <td>Rural</td>\n",
       "      <td>174.12</td>\n",
       "      <td>24.0</td>\n",
       "      <td>never smoked</td>\n",
       "      <td>1</td>\n",
       "    </tr>\n",
       "    <tr>\n",
       "      <th>5</th>\n",
       "      <td>56669</td>\n",
       "      <td>Male</td>\n",
       "      <td>81.0</td>\n",
       "      <td>0</td>\n",
       "      <td>0</td>\n",
       "      <td>Yes</td>\n",
       "      <td>Private</td>\n",
       "      <td>Urban</td>\n",
       "      <td>186.21</td>\n",
       "      <td>29.0</td>\n",
       "      <td>formerly smoked</td>\n",
       "      <td>1</td>\n",
       "    </tr>\n",
       "  </tbody>\n",
       "</table>\n",
       "</div>"
      ],
      "text/plain": [
       "      id  gender   age  hypertension  heart_disease ever_married  \\\n",
       "0   9046    Male  67.0             0              1          Yes   \n",
       "2  31112    Male  80.0             0              1          Yes   \n",
       "3  60182  Female  49.0             0              0          Yes   \n",
       "4   1665  Female  79.0             1              0          Yes   \n",
       "5  56669    Male  81.0             0              0          Yes   \n",
       "\n",
       "       work_type Residence_type  avg_glucose_level   bmi   smoking_status  \\\n",
       "0        Private          Urban             228.69  36.6  formerly smoked   \n",
       "2        Private          Rural             105.92  32.5     never smoked   \n",
       "3        Private          Urban             171.23  34.4           smokes   \n",
       "4  Self-employed          Rural             174.12  24.0     never smoked   \n",
       "5        Private          Urban             186.21  29.0  formerly smoked   \n",
       "\n",
       "   stroke  \n",
       "0       1  \n",
       "2       1  \n",
       "3       1  \n",
       "4       1  \n",
       "5       1  "
      ]
     },
     "execution_count": 80,
     "metadata": {},
     "output_type": "execute_result"
    }
   ],
   "source": [
    "df.head()"
   ]
  },
  {
   "cell_type": "code",
   "execution_count": 81,
   "metadata": {},
   "outputs": [
    {
     "data": {
      "text/plain": [
       "array(['formerly smoked', 'never smoked', 'smokes', 'Unknown'],\n",
       "      dtype=object)"
      ]
     },
     "execution_count": 81,
     "metadata": {},
     "output_type": "execute_result"
    }
   ],
   "source": [
    "df['smoking_status'].unique()"
   ]
  },
  {
   "cell_type": "code",
   "execution_count": 82,
   "metadata": {},
   "outputs": [
    {
     "data": {
      "text/html": [
       "<table class=\"simpletable\">\n",
       "<caption>OLS Regression Results</caption>\n",
       "<tr>\n",
       "  <th>Dep. Variable:</th>           <td>bmi</td>       <th>  R-squared:         </th> <td>   0.124</td> \n",
       "</tr>\n",
       "<tr>\n",
       "  <th>Model:</th>                   <td>OLS</td>       <th>  Adj. R-squared:    </th> <td>   0.123</td> \n",
       "</tr>\n",
       "<tr>\n",
       "  <th>Method:</th>             <td>Least Squares</td>  <th>  F-statistic:       </th> <td>   172.8</td> \n",
       "</tr>\n",
       "<tr>\n",
       "  <th>Date:</th>             <td>Tue, 05 Dec 2023</td> <th>  Prob (F-statistic):</th> <td>1.09e-138</td>\n",
       "</tr>\n",
       "<tr>\n",
       "  <th>Time:</th>                 <td>18:43:55</td>     <th>  Log-Likelihood:    </th> <td> -16756.</td> \n",
       "</tr>\n",
       "<tr>\n",
       "  <th>No. Observations:</th>      <td>  4908</td>      <th>  AIC:               </th> <td>3.352e+04</td>\n",
       "</tr>\n",
       "<tr>\n",
       "  <th>Df Residuals:</th>          <td>  4903</td>      <th>  BIC:               </th> <td>3.355e+04</td>\n",
       "</tr>\n",
       "<tr>\n",
       "  <th>Df Model:</th>              <td>     4</td>      <th>                     </th>     <td> </td>    \n",
       "</tr>\n",
       "<tr>\n",
       "  <th>Covariance Type:</th>      <td>nonrobust</td>    <th>                     </th>     <td> </td>    \n",
       "</tr>\n",
       "</table>\n",
       "<table class=\"simpletable\">\n",
       "<tr>\n",
       "          <td></td>             <th>coef</th>     <th>std err</th>      <th>t</th>      <th>P>|t|</th>  <th>[0.025</th>    <th>0.975]</th>  \n",
       "</tr>\n",
       "<tr>\n",
       "  <th>Intercept</th>         <td>   22.3545</td> <td>    0.320</td> <td>   69.833</td> <td> 0.000</td> <td>   21.727</td> <td>   22.982</td>\n",
       "</tr>\n",
       "<tr>\n",
       "  <th>gender[T.Male]</th>    <td>   -0.3509</td> <td>    0.214</td> <td>   -1.640</td> <td> 0.101</td> <td>   -0.770</td> <td>    0.069</td>\n",
       "</tr>\n",
       "<tr>\n",
       "  <th>age</th>               <td>    0.1107</td> <td>    0.005</td> <td>   22.579</td> <td> 0.000</td> <td>    0.101</td> <td>    0.120</td>\n",
       "</tr>\n",
       "<tr>\n",
       "  <th>stroke</th>            <td>   -1.8048</td> <td>    0.537</td> <td>   -3.362</td> <td> 0.001</td> <td>   -2.857</td> <td>   -0.752</td>\n",
       "</tr>\n",
       "<tr>\n",
       "  <th>avg_glucose_level</th> <td>    0.0191</td> <td>    0.002</td> <td>    7.823</td> <td> 0.000</td> <td>    0.014</td> <td>    0.024</td>\n",
       "</tr>\n",
       "</table>\n",
       "<table class=\"simpletable\">\n",
       "<tr>\n",
       "  <th>Omnibus:</th>       <td>1537.361</td> <th>  Durbin-Watson:     </th> <td>   2.014</td>\n",
       "</tr>\n",
       "<tr>\n",
       "  <th>Prob(Omnibus):</th>  <td> 0.000</td>  <th>  Jarque-Bera (JB):  </th> <td>7307.526</td>\n",
       "</tr>\n",
       "<tr>\n",
       "  <th>Skew:</th>           <td> 1.439</td>  <th>  Prob(JB):          </th> <td>    0.00</td>\n",
       "</tr>\n",
       "<tr>\n",
       "  <th>Kurtosis:</th>       <td> 8.239</td>  <th>  Cond. No.          </th> <td>    627.</td>\n",
       "</tr>\n",
       "</table><br/><br/>Notes:<br/>[1] Standard Errors assume that the covariance matrix of the errors is correctly specified."
      ],
      "text/plain": [
       "<class 'statsmodels.iolib.summary.Summary'>\n",
       "\"\"\"\n",
       "                            OLS Regression Results                            \n",
       "==============================================================================\n",
       "Dep. Variable:                    bmi   R-squared:                       0.124\n",
       "Model:                            OLS   Adj. R-squared:                  0.123\n",
       "Method:                 Least Squares   F-statistic:                     172.8\n",
       "Date:                Tue, 05 Dec 2023   Prob (F-statistic):          1.09e-138\n",
       "Time:                        18:43:55   Log-Likelihood:                -16756.\n",
       "No. Observations:                4908   AIC:                         3.352e+04\n",
       "Df Residuals:                    4903   BIC:                         3.355e+04\n",
       "Df Model:                           4                                         \n",
       "Covariance Type:            nonrobust                                         \n",
       "=====================================================================================\n",
       "                        coef    std err          t      P>|t|      [0.025      0.975]\n",
       "-------------------------------------------------------------------------------------\n",
       "Intercept            22.3545      0.320     69.833      0.000      21.727      22.982\n",
       "gender[T.Male]       -0.3509      0.214     -1.640      0.101      -0.770       0.069\n",
       "age                   0.1107      0.005     22.579      0.000       0.101       0.120\n",
       "stroke               -1.8048      0.537     -3.362      0.001      -2.857      -0.752\n",
       "avg_glucose_level     0.0191      0.002      7.823      0.000       0.014       0.024\n",
       "==============================================================================\n",
       "Omnibus:                     1537.361   Durbin-Watson:                   2.014\n",
       "Prob(Omnibus):                  0.000   Jarque-Bera (JB):             7307.526\n",
       "Skew:                           1.439   Prob(JB):                         0.00\n",
       "Kurtosis:                       8.239   Cond. No.                         627.\n",
       "==============================================================================\n",
       "\n",
       "Notes:\n",
       "[1] Standard Errors assume that the covariance matrix of the errors is correctly specified.\n",
       "\"\"\""
      ]
     },
     "execution_count": 82,
     "metadata": {},
     "output_type": "execute_result"
    }
   ],
   "source": [
    "model = smf.ols('bmi ~ gender + age + stroke + avg_glucose_level', data =df).fit()\n",
    "model.summary()"
   ]
  },
  {
   "cell_type": "markdown",
   "metadata": {},
   "source": [
    "bmi = 22.3545 - 0.3509(gender[Male]) + 0.1107 (age) - 1.8048 (stroke) + 0.0191 (avg glucose level)"
   ]
  },
  {
   "cell_type": "markdown",
   "metadata": {},
   "source": [
    "Baseline level = Female"
   ]
  },
  {
   "cell_type": "markdown",
   "metadata": {},
   "source": [
    "Slope Interpretation:\n",
    "\n",
    "For every 1 year increase in a subjects age, a patients estimated BMI will increase by 0.1107 on average. Holding all other variables constant."
   ]
  },
  {
   "cell_type": "code",
   "execution_count": 312,
   "metadata": {},
   "outputs": [
    {
     "data": {
      "text/html": [
       "<div>\n",
       "<style scoped>\n",
       "    .dataframe tbody tr th:only-of-type {\n",
       "        vertical-align: middle;\n",
       "    }\n",
       "\n",
       "    .dataframe tbody tr th {\n",
       "        vertical-align: top;\n",
       "    }\n",
       "\n",
       "    .dataframe thead th {\n",
       "        text-align: right;\n",
       "    }\n",
       "</style>\n",
       "<table border=\"1\" class=\"dataframe\">\n",
       "  <thead>\n",
       "    <tr style=\"text-align: right;\">\n",
       "      <th></th>\n",
       "      <th>id</th>\n",
       "      <th>age</th>\n",
       "      <th>hypertension</th>\n",
       "      <th>heart_disease</th>\n",
       "      <th>avg_glucose_level</th>\n",
       "      <th>bmi</th>\n",
       "      <th>stroke</th>\n",
       "    </tr>\n",
       "  </thead>\n",
       "  <tbody>\n",
       "    <tr>\n",
       "      <th>id</th>\n",
       "      <td>1.000000</td>\n",
       "      <td>0.009124</td>\n",
       "      <td>0.001206</td>\n",
       "      <td>0.004058</td>\n",
       "      <td>0.006252</td>\n",
       "      <td>0.003238</td>\n",
       "      <td>0.004878</td>\n",
       "    </tr>\n",
       "    <tr>\n",
       "      <th>age</th>\n",
       "      <td>0.009124</td>\n",
       "      <td>1.000000</td>\n",
       "      <td>0.274395</td>\n",
       "      <td>0.257104</td>\n",
       "      <td>0.236000</td>\n",
       "      <td>0.333314</td>\n",
       "      <td>0.232313</td>\n",
       "    </tr>\n",
       "    <tr>\n",
       "      <th>hypertension</th>\n",
       "      <td>0.001206</td>\n",
       "      <td>0.274395</td>\n",
       "      <td>1.000000</td>\n",
       "      <td>0.115978</td>\n",
       "      <td>0.180614</td>\n",
       "      <td>0.167770</td>\n",
       "      <td>0.142503</td>\n",
       "    </tr>\n",
       "    <tr>\n",
       "      <th>heart_disease</th>\n",
       "      <td>0.004058</td>\n",
       "      <td>0.257104</td>\n",
       "      <td>0.115978</td>\n",
       "      <td>1.000000</td>\n",
       "      <td>0.154577</td>\n",
       "      <td>0.041322</td>\n",
       "      <td>0.137929</td>\n",
       "    </tr>\n",
       "    <tr>\n",
       "      <th>avg_glucose_level</th>\n",
       "      <td>0.006252</td>\n",
       "      <td>0.236000</td>\n",
       "      <td>0.180614</td>\n",
       "      <td>0.154577</td>\n",
       "      <td>1.000000</td>\n",
       "      <td>0.175672</td>\n",
       "      <td>0.138984</td>\n",
       "    </tr>\n",
       "    <tr>\n",
       "      <th>bmi</th>\n",
       "      <td>0.003238</td>\n",
       "      <td>0.333314</td>\n",
       "      <td>0.167770</td>\n",
       "      <td>0.041322</td>\n",
       "      <td>0.175672</td>\n",
       "      <td>1.000000</td>\n",
       "      <td>0.042341</td>\n",
       "    </tr>\n",
       "    <tr>\n",
       "      <th>stroke</th>\n",
       "      <td>0.004878</td>\n",
       "      <td>0.232313</td>\n",
       "      <td>0.142503</td>\n",
       "      <td>0.137929</td>\n",
       "      <td>0.138984</td>\n",
       "      <td>0.042341</td>\n",
       "      <td>1.000000</td>\n",
       "    </tr>\n",
       "  </tbody>\n",
       "</table>\n",
       "</div>"
      ],
      "text/plain": [
       "                         id       age  hypertension  heart_disease  \\\n",
       "id                 1.000000  0.009124      0.001206       0.004058   \n",
       "age                0.009124  1.000000      0.274395       0.257104   \n",
       "hypertension       0.001206  0.274395      1.000000       0.115978   \n",
       "heart_disease      0.004058  0.257104      0.115978       1.000000   \n",
       "avg_glucose_level  0.006252  0.236000      0.180614       0.154577   \n",
       "bmi                0.003238  0.333314      0.167770       0.041322   \n",
       "stroke             0.004878  0.232313      0.142503       0.137929   \n",
       "\n",
       "                   avg_glucose_level       bmi    stroke  \n",
       "id                          0.006252  0.003238  0.004878  \n",
       "age                         0.236000  0.333314  0.232313  \n",
       "hypertension                0.180614  0.167770  0.142503  \n",
       "heart_disease               0.154577  0.041322  0.137929  \n",
       "avg_glucose_level           1.000000  0.175672  0.138984  \n",
       "bmi                         0.175672  1.000000  0.042341  \n",
       "stroke                      0.138984  0.042341  1.000000  "
      ]
     },
     "execution_count": 312,
     "metadata": {},
     "output_type": "execute_result"
    }
   ],
   "source": [
    "#Checking for multicollinearity \n",
    "df.corr()"
   ]
  },
  {
   "cell_type": "markdown",
   "metadata": {},
   "source": [
    "Based on the correlation matrix, there does not seem to be any multicollinearity within our predictor or explanatory variables."
   ]
  },
  {
   "cell_type": "code",
   "execution_count": 251,
   "metadata": {},
   "outputs": [
    {
     "data": {
      "image/png": "[encoded data removed]",
      "text/plain": [
       "<Figure size 640x480 with 1 Axes>"
      ]
     },
     "metadata": {},
     "output_type": "display_data"
    }
   ],
   "source": [
    "pred = model.predict(df)\n",
    "residuals = df['bmi'] - pred\n",
    "\n",
    "plt.scatter(pred, residuals)\n",
    "plt.axhline(y=0, color='r', linestyle='--')\n",
    "plt.xlabel('Fitted (Predicted) values')\n",
    "plt.ylabel('Residuals')\n",
    "plt.title('Fitted values vs. Residuals Plot')\n",
    "plt.show()"
   ]
  },
  {
   "cell_type": "code",
   "execution_count": 84,
   "metadata": {},
   "outputs": [],
   "source": [
    "resid = model.resid"
   ]
  },
  {
   "cell_type": "code",
   "execution_count": 85,
   "metadata": {},
   "outputs": [
    {
     "data": {
      "text/plain": [
       "4.9685873454129255e-14"
      ]
     },
     "execution_count": 85,
     "metadata": {},
     "output_type": "execute_result"
    }
   ],
   "source": [
    "resid.mean()"
   ]
  },
  {
   "cell_type": "markdown",
   "metadata": {},
   "source": [
    "Based on this chart the linearity assumption is met. It looks like we have an even amount of positive and negative residiuals as we move from left to right on the chart. Also, taking a look at the residuals, we can see that the average of the residuals is approximately 0 which is promising."
   ]
  },
  {
   "cell_type": "markdown",
   "metadata": {},
   "source": [
    "After creating a model based on predictors we thought would be most influential off first glance, we will now perform feature selection (forward selection), to find the most optimal model for predicting BMI.\n",
    "\n",
    "We chose forward selection for a couple of different reasons. First off this is a relatively smaller dataset with only 10 possible variables as predictors. We were focused on the impact of each variable in relation to BMI and wanted to display the effect of adding different predicting features in 1 by 1 in the most optimal way. Also we were not worried about including an L1 or L2 penalty because of the amount of variables we had. "
   ]
  },
  {
   "cell_type": "code",
   "execution_count": 313,
   "metadata": {},
   "outputs": [
    {
     "data": {
      "text/plain": [
       "-8.881784197001252e-16"
      ]
     },
     "execution_count": 313,
     "metadata": {},
     "output_type": "execute_result"
    }
   ],
   "source": [
    "model1 = smf.ols('bmi~1', data=df).fit()\n",
    "model1.rsquared_adj"
   ]
  },
  {
   "cell_type": "code",
   "execution_count": 87,
   "metadata": {},
   "outputs": [
    {
     "data": {
      "text/plain": [
       "0.0004808556319898516"
      ]
     },
     "execution_count": 87,
     "metadata": {},
     "output_type": "execute_result"
    }
   ],
   "source": [
    "model_gender_1 = smf.ols('bmi~gender', data=df).fit()\n",
    "model_gender_1.rsquared_adj"
   ]
  },
  {
   "cell_type": "code",
   "execution_count": 88,
   "metadata": {},
   "outputs": [
    {
     "data": {
      "text/plain": [
       "0.1109171813309634"
      ]
     },
     "execution_count": 88,
     "metadata": {},
     "output_type": "execute_result"
    }
   ],
   "source": [
    "model_age_1 = smf.ols('bmi~age', data=df).fit()\n",
    "model_age_1.rsquared_adj"
   ]
  },
  {
   "cell_type": "code",
   "execution_count": 89,
   "metadata": {},
   "outputs": [
    {
     "data": {
      "text/plain": [
       "0.027948817491049383"
      ]
     },
     "execution_count": 89,
     "metadata": {},
     "output_type": "execute_result"
    }
   ],
   "source": [
    "model_hyper_1 = smf.ols('bmi~hypertension', data=df).fit()\n",
    "model_hyper_1.rsquared_adj"
   ]
  },
  {
   "cell_type": "code",
   "execution_count": 90,
   "metadata": {},
   "outputs": [
    {
     "data": {
      "text/plain": [
       "0.0015040315636229984"
      ]
     },
     "execution_count": 90,
     "metadata": {},
     "output_type": "execute_result"
    }
   ],
   "source": [
    "model_heart_1 = smf.ols('bmi~heart_disease', data=df).fit()\n",
    "model_heart_1.rsquared_adj"
   ]
  },
  {
   "cell_type": "code",
   "execution_count": 91,
   "metadata": {},
   "outputs": [
    {
     "data": {
      "text/plain": [
       "0.1164783254640096"
      ]
     },
     "execution_count": 91,
     "metadata": {},
     "output_type": "execute_result"
    }
   ],
   "source": [
    "model_married_1 = smf.ols('bmi~ever_married', data=df).fit()\n",
    "model_married_1.rsquared_adj"
   ]
  },
  {
   "cell_type": "code",
   "execution_count": 92,
   "metadata": {},
   "outputs": [
    {
     "data": {
      "text/plain": [
       "0.20251838616980733"
      ]
     },
     "execution_count": 92,
     "metadata": {},
     "output_type": "execute_result"
    }
   ],
   "source": [
    "model_work_1 = smf.ols('bmi~work_type', data=df).fit()\n",
    "model_work_1.rsquared_adj"
   ]
  },
  {
   "cell_type": "code",
   "execution_count": 93,
   "metadata": {},
   "outputs": [
    {
     "data": {
      "text/plain": [
       "-0.0002037459351216242"
      ]
     },
     "execution_count": 93,
     "metadata": {},
     "output_type": "execute_result"
    }
   ],
   "source": [
    "model_residence_1 = smf.ols('bmi~Residence_type', data=df).fit()\n",
    "model_residence_1.rsquared_adj"
   ]
  },
  {
   "cell_type": "code",
   "execution_count": 94,
   "metadata": {},
   "outputs": [
    {
     "data": {
      "text/plain": [
       "0.030663017055239217"
      ]
     },
     "execution_count": 94,
     "metadata": {},
     "output_type": "execute_result"
    }
   ],
   "source": [
    "model_glucose_1 = smf.ols('bmi~avg_glucose_level', data=df).fit()\n",
    "model_glucose_1.rsquared_adj"
   ]
  },
  {
   "cell_type": "code",
   "execution_count": 95,
   "metadata": {},
   "outputs": [
    {
     "data": {
      "text/plain": [
       "0.07393150806356774"
      ]
     },
     "execution_count": 95,
     "metadata": {},
     "output_type": "execute_result"
    }
   ],
   "source": [
    "model_smoking_1 = smf.ols('bmi~smoking_status', data=df).fit()\n",
    "model_smoking_1.rsquared_adj"
   ]
  },
  {
   "cell_type": "code",
   "execution_count": 97,
   "metadata": {},
   "outputs": [
    {
     "data": {
      "text/plain": [
       "0.001589317137632884"
      ]
     },
     "execution_count": 97,
     "metadata": {},
     "output_type": "execute_result"
    }
   ],
   "source": [
    "model_stroke_1 = smf.ols('bmi~stroke', data=df).fit()\n",
    "model_stroke_1.rsquared_adj"
   ]
  },
  {
   "cell_type": "markdown",
   "metadata": {},
   "source": [
    "Level 1 : Work Type .2025"
   ]
  },
  {
   "cell_type": "code",
   "execution_count": 98,
   "metadata": {},
   "outputs": [
    {
     "data": {
      "text/plain": [
       "0.2026008839326564"
      ]
     },
     "execution_count": 98,
     "metadata": {},
     "output_type": "execute_result"
    }
   ],
   "source": [
    "model_gender_2 = smf.ols('bmi~work_type + gender', data=df).fit()\n",
    "model_gender_2.rsquared_adj"
   ]
  },
  {
   "cell_type": "code",
   "execution_count": 99,
   "metadata": {},
   "outputs": [
    {
     "data": {
      "text/plain": [
       "0.2061625669830831"
      ]
     },
     "execution_count": 99,
     "metadata": {},
     "output_type": "execute_result"
    }
   ],
   "source": [
    "model_age_2 = smf.ols('bmi~work_type + age', data=df).fit()\n",
    "model_age_2.rsquared_adj"
   ]
  },
  {
   "cell_type": "code",
   "execution_count": 100,
   "metadata": {},
   "outputs": [
    {
     "data": {
      "text/plain": [
       "0.2148614525655661"
      ]
     },
     "execution_count": 100,
     "metadata": {},
     "output_type": "execute_result"
    }
   ],
   "source": [
    "model_hyper_2 = smf.ols('bmi~work_type + hypertension', data=df).fit()\n",
    "model_hyper_2.rsquared_adj"
   ]
  },
  {
   "cell_type": "code",
   "execution_count": 101,
   "metadata": {},
   "outputs": [
    {
     "data": {
      "text/plain": [
       "0.20235781319081902"
      ]
     },
     "execution_count": 101,
     "metadata": {},
     "output_type": "execute_result"
    }
   ],
   "source": [
    "model_heart_2 = smf.ols('bmi~work_type + heart_disease', data=df).fit()\n",
    "model_heart_2.rsquared_adj"
   ]
  },
  {
   "cell_type": "code",
   "execution_count": 102,
   "metadata": {},
   "outputs": [
    {
     "data": {
      "text/plain": [
       "0.21495438928543154"
      ]
     },
     "execution_count": 102,
     "metadata": {},
     "output_type": "execute_result"
    }
   ],
   "source": [
    "model_married_2 = smf.ols('bmi~work_type + ever_married', data=df).fit()\n",
    "model_married_2.rsquared_adj"
   ]
  },
  {
   "cell_type": "code",
   "execution_count": 103,
   "metadata": {},
   "outputs": [
    {
     "data": {
      "text/plain": [
       "0.20235615785570105"
      ]
     },
     "execution_count": 103,
     "metadata": {},
     "output_type": "execute_result"
    }
   ],
   "source": [
    "model_resid_2 = smf.ols('bmi~work_type + Residence_type', data=df).fit()\n",
    "model_resid_2.rsquared_adj"
   ]
  },
  {
   "cell_type": "code",
   "execution_count": 104,
   "metadata": {},
   "outputs": [
    {
     "data": {
      "text/plain": [
       "0.2194552502003505"
      ]
     },
     "execution_count": 104,
     "metadata": {},
     "output_type": "execute_result"
    }
   ],
   "source": [
    "model_glucose_2 = smf.ols('bmi~work_type + avg_glucose_level', data=df).fit()\n",
    "model_glucose_2.rsquared_adj"
   ]
  },
  {
   "cell_type": "code",
   "execution_count": 105,
   "metadata": {},
   "outputs": [
    {
     "data": {
      "text/plain": [
       "0.20466205206931054"
      ]
     },
     "execution_count": 105,
     "metadata": {},
     "output_type": "execute_result"
    }
   ],
   "source": [
    "model_smoking_2 = smf.ols('bmi~work_type + smoking_status', data=df).fit()\n",
    "model_smoking_2.rsquared_adj"
   ]
  },
  {
   "cell_type": "code",
   "execution_count": 106,
   "metadata": {},
   "outputs": [
    {
     "data": {
      "text/plain": [
       "0.20238734401809932"
      ]
     },
     "execution_count": 106,
     "metadata": {},
     "output_type": "execute_result"
    }
   ],
   "source": [
    "model_stroke_2 = smf.ols('bmi~work_type + stroke', data=df).fit()\n",
    "model_stroke_2.rsquared_adj"
   ]
  },
  {
   "cell_type": "markdown",
   "metadata": {},
   "source": [
    "Level 2 : bmi~ work_type + avg_glucose_level = .2194"
   ]
  },
  {
   "cell_type": "code",
   "execution_count": 107,
   "metadata": {},
   "outputs": [
    {
     "data": {
      "text/plain": [
       "0.21934988779906028"
      ]
     },
     "execution_count": 107,
     "metadata": {},
     "output_type": "execute_result"
    }
   ],
   "source": [
    "model_gender_3 = smf.ols('bmi~work_type + avg_glucose_level + gender', data=df).fit()\n",
    "model_gender_3.rsquared_adj"
   ]
  },
  {
   "cell_type": "code",
   "execution_count": 108,
   "metadata": {},
   "outputs": [
    {
     "data": {
      "text/plain": [
       "0.22045677503225658"
      ]
     },
     "execution_count": 108,
     "metadata": {},
     "output_type": "execute_result"
    }
   ],
   "source": [
    "model_age_3 = smf.ols('bmi~work_type + avg_glucose_level + age', data=df).fit()\n",
    "model_age_3.rsquared_adj"
   ]
  },
  {
   "cell_type": "code",
   "execution_count": 109,
   "metadata": {},
   "outputs": [
    {
     "data": {
      "text/plain": [
       "0.22765688358828862"
      ]
     },
     "execution_count": 109,
     "metadata": {},
     "output_type": "execute_result"
    }
   ],
   "source": [
    "model_hyper_3 = smf.ols('bmi~work_type + avg_glucose_level + hypertension', data=df).fit()\n",
    "model_hyper_3.rsquared_adj"
   ]
  },
  {
   "cell_type": "code",
   "execution_count": 110,
   "metadata": {},
   "outputs": [
    {
     "data": {
      "text/plain": [
       "0.21960305453754692"
      ]
     },
     "execution_count": 110,
     "metadata": {},
     "output_type": "execute_result"
    }
   ],
   "source": [
    "model_heart_3 = smf.ols('bmi~work_type + avg_glucose_level + heart_disease', data=df).fit()\n",
    "model_heart_3.rsquared_adj"
   ]
  },
  {
   "cell_type": "code",
   "execution_count": 111,
   "metadata": {},
   "outputs": [
    {
     "data": {
      "text/plain": [
       "0.22902159708410375"
      ]
     },
     "execution_count": 111,
     "metadata": {},
     "output_type": "execute_result"
    }
   ],
   "source": [
    "model_married_3 = smf.ols('bmi~work_type + avg_glucose_level + ever_married', data=df).fit()\n",
    "model_married_3.rsquared_adj"
   ]
  },
  {
   "cell_type": "code",
   "execution_count": 112,
   "metadata": {},
   "outputs": [
    {
     "data": {
      "text/plain": [
       "0.2192961472454903"
      ]
     },
     "execution_count": 112,
     "metadata": {},
     "output_type": "execute_result"
    }
   ],
   "source": [
    "model_resid_3 = smf.ols('bmi~work_type + avg_glucose_level + Residence_type', data=df).fit()\n",
    "model_resid_3.rsquared_adj"
   ]
  },
  {
   "cell_type": "code",
   "execution_count": 113,
   "metadata": {},
   "outputs": [
    {
     "data": {
      "text/plain": [
       "0.2207970943949742"
      ]
     },
     "execution_count": 113,
     "metadata": {},
     "output_type": "execute_result"
    }
   ],
   "source": [
    "model_smoke_3 = smf.ols('bmi~work_type + avg_glucose_level + smoking_status', data=df).fit()\n",
    "model_smoke_3.rsquared_adj"
   ]
  },
  {
   "cell_type": "code",
   "execution_count": 114,
   "metadata": {},
   "outputs": [
    {
     "data": {
      "text/plain": [
       "0.2194270132506546"
      ]
     },
     "execution_count": 114,
     "metadata": {},
     "output_type": "execute_result"
    }
   ],
   "source": [
    "model_stroke_3 = smf.ols('bmi~work_type + avg_glucose_level + stroke', data=df).fit()\n",
    "model_stroke_3.rsquared_adj"
   ]
  },
  {
   "cell_type": "markdown",
   "metadata": {},
   "source": [
    "Level 3: bmi~work_type + avg_glucose_level + ever_married = .2290"
   ]
  },
  {
   "cell_type": "code",
   "execution_count": 115,
   "metadata": {},
   "outputs": [
    {
     "data": {
      "text/plain": [
       "0.22890140356877464"
      ]
     },
     "execution_count": 115,
     "metadata": {},
     "output_type": "execute_result"
    }
   ],
   "source": [
    "model_gender_4 = smf.ols('bmi~work_type + avg_glucose_level + ever_married + gender', data=df).fit()\n",
    "model_gender_4.rsquared_adj"
   ]
  },
  {
   "cell_type": "code",
   "execution_count": 116,
   "metadata": {},
   "outputs": [
    {
     "data": {
      "text/plain": [
       "0.22911503472291272"
      ]
     },
     "execution_count": 116,
     "metadata": {},
     "output_type": "execute_result"
    }
   ],
   "source": [
    "model_age_4 = smf.ols('bmi~work_type + avg_glucose_level + ever_married + age', data=df).fit()\n",
    "model_age_4.rsquared_adj"
   ]
  },
  {
   "cell_type": "code",
   "execution_count": 117,
   "metadata": {},
   "outputs": [
    {
     "data": {
      "text/plain": [
       "0.23584407308813893"
      ]
     },
     "execution_count": 117,
     "metadata": {},
     "output_type": "execute_result"
    }
   ],
   "source": [
    "model_hyper_4 = smf.ols('bmi~work_type + avg_glucose_level + ever_married + hypertension', data=df).fit()\n",
    "model_hyper_4.rsquared_adj"
   ]
  },
  {
   "cell_type": "code",
   "execution_count": 118,
   "metadata": {},
   "outputs": [
    {
     "data": {
      "text/plain": [
       "0.2293787985775252"
      ]
     },
     "execution_count": 118,
     "metadata": {},
     "output_type": "execute_result"
    }
   ],
   "source": [
    "model_heart_4 = smf.ols('bmi~work_type + avg_glucose_level + ever_married + heart_disease', data=df).fit()\n",
    "model_heart_4.rsquared_adj"
   ]
  },
  {
   "cell_type": "code",
   "execution_count": 119,
   "metadata": {},
   "outputs": [
    {
     "data": {
      "text/plain": [
       "0.22886426611742017"
      ]
     },
     "execution_count": 119,
     "metadata": {},
     "output_type": "execute_result"
    }
   ],
   "source": [
    "model_resid_4 = smf.ols('bmi~work_type + avg_glucose_level + ever_married + Residence_type', data=df).fit()\n",
    "model_resid_4.rsquared_adj"
   ]
  },
  {
   "cell_type": "code",
   "execution_count": 120,
   "metadata": {},
   "outputs": [
    {
     "data": {
      "text/plain": [
       "0.22965858482939705"
      ]
     },
     "execution_count": 120,
     "metadata": {},
     "output_type": "execute_result"
    }
   ],
   "source": [
    "model_smoke_4 = smf.ols('bmi~work_type + avg_glucose_level + ever_married + smoking_status', data=df).fit()\n",
    "model_smoke_4.rsquared_adj"
   ]
  },
  {
   "cell_type": "code",
   "execution_count": 121,
   "metadata": {},
   "outputs": [
    {
     "data": {
      "text/plain": [
       "0.22914684927235074"
      ]
     },
     "execution_count": 121,
     "metadata": {},
     "output_type": "execute_result"
    }
   ],
   "source": [
    "model_stroke_4 = smf.ols('bmi~work_type + avg_glucose_level + ever_married + stroke', data=df).fit()\n",
    "model_stroke_4.rsquared_adj"
   ]
  },
  {
   "cell_type": "markdown",
   "metadata": {},
   "source": [
    "Level 4: bmi~work_type + avg_glucose_level + ever_married + hypertension = .2358"
   ]
  },
  {
   "cell_type": "code",
   "execution_count": 122,
   "metadata": {},
   "outputs": [
    {
     "data": {
      "text/plain": [
       "0.23570495138143366"
      ]
     },
     "execution_count": 122,
     "metadata": {},
     "output_type": "execute_result"
    }
   ],
   "source": [
    "model_gender_5 = smf.ols('bmi~work_type + avg_glucose_level + ever_married + hypertension + gender', data=df).fit()\n",
    "model_gender_5.rsquared_adj"
   ]
  },
  {
   "cell_type": "code",
   "execution_count": 123,
   "metadata": {},
   "outputs": [
    {
     "data": {
      "text/plain": [
       "0.23674712765954276"
      ]
     },
     "execution_count": 123,
     "metadata": {},
     "output_type": "execute_result"
    }
   ],
   "source": [
    "model_age_5 = smf.ols('bmi~work_type + avg_glucose_level + ever_married + hypertension + age', data=df).fit()\n",
    "model_age_5.rsquared_adj"
   ]
  },
  {
   "cell_type": "code",
   "execution_count": 124,
   "metadata": {},
   "outputs": [
    {
     "data": {
      "text/plain": [
       "0.2365274526914657"
      ]
     },
     "execution_count": 124,
     "metadata": {},
     "output_type": "execute_result"
    }
   ],
   "source": [
    "model_heart_5 = smf.ols('bmi~work_type + avg_glucose_level + ever_married + hypertension + heart_disease', data=df).fit()\n",
    "model_heart_5.rsquared_adj"
   ]
  },
  {
   "cell_type": "code",
   "execution_count": 125,
   "metadata": {},
   "outputs": [
    {
     "data": {
      "text/plain": [
       "0.23568809117469236"
      ]
     },
     "execution_count": 125,
     "metadata": {},
     "output_type": "execute_result"
    }
   ],
   "source": [
    "model_resid_5 = smf.ols('bmi~work_type + avg_glucose_level + ever_married + hypertension + Residence_type', data=df).fit()\n",
    "model_resid_5.rsquared_adj"
   ]
  },
  {
   "cell_type": "code",
   "execution_count": 126,
   "metadata": {},
   "outputs": [
    {
     "data": {
      "text/plain": [
       "0.23616175313191745"
      ]
     },
     "execution_count": 126,
     "metadata": {},
     "output_type": "execute_result"
    }
   ],
   "source": [
    "model_smoke_5 = smf.ols('bmi~work_type + avg_glucose_level + ever_married + hypertension + smoking_status', data=df).fit()\n",
    "model_smoke_5.rsquared_adj"
   ]
  },
  {
   "cell_type": "code",
   "execution_count": 127,
   "metadata": {},
   "outputs": [
    {
     "data": {
      "text/plain": [
       "0.23636034517601878"
      ]
     },
     "execution_count": 127,
     "metadata": {},
     "output_type": "execute_result"
    }
   ],
   "source": [
    "model_stroke_5 = smf.ols('bmi~work_type + avg_glucose_level + ever_married + hypertension + stroke', data=df).fit()\n",
    "model_stroke_5.rsquared_adj"
   ]
  },
  {
   "cell_type": "markdown",
   "metadata": {},
   "source": [
    "Level 5: bmi~work_type + avg_glucose_level + ever_married + hypertension + age = .2367"
   ]
  },
  {
   "cell_type": "code",
   "execution_count": 128,
   "metadata": {},
   "outputs": [
    {
     "data": {
      "text/plain": [
       "0.23661467338289122"
      ]
     },
     "execution_count": 128,
     "metadata": {},
     "output_type": "execute_result"
    }
   ],
   "source": [
    "model_gender_6 = smf.ols('bmi~work_type + avg_glucose_level + ever_married + hypertension + age + gender', data=df).fit()\n",
    "model_gender_6.rsquared_adj"
   ]
  },
  {
   "cell_type": "code",
   "execution_count": 129,
   "metadata": {},
   "outputs": [
    {
     "data": {
      "text/plain": [
       "0.23708374838458224"
      ]
     },
     "execution_count": 129,
     "metadata": {},
     "output_type": "execute_result"
    }
   ],
   "source": [
    "model_heart_6 = smf.ols('bmi~work_type + avg_glucose_level + ever_married + hypertension + age + heart_disease', data=df).fit()\n",
    "model_heart_6.rsquared_adj"
   ]
  },
  {
   "cell_type": "code",
   "execution_count": 130,
   "metadata": {},
   "outputs": [
    {
     "data": {
      "text/plain": [
       "0.23659144991962366"
      ]
     },
     "execution_count": 130,
     "metadata": {},
     "output_type": "execute_result"
    }
   ],
   "source": [
    "model_resid_6 = smf.ols('bmi~work_type + avg_glucose_level + ever_married + hypertension + age + Residence_type', data=df).fit()\n",
    "model_resid_6.rsquared_adj"
   ]
  },
  {
   "cell_type": "code",
   "execution_count": 131,
   "metadata": {},
   "outputs": [
    {
     "data": {
      "text/plain": [
       "0.23722695477814026"
      ]
     },
     "execution_count": 131,
     "metadata": {},
     "output_type": "execute_result"
    }
   ],
   "source": [
    "model_smoke_6 = smf.ols('bmi~work_type + avg_glucose_level + ever_married + hypertension + age + smoking_status', data=df).fit()\n",
    "model_smoke_6.rsquared_adj"
   ]
  },
  {
   "cell_type": "code",
   "execution_count": 132,
   "metadata": {},
   "outputs": [
    {
     "data": {
      "text/plain": [
       "0.2369866526308142"
      ]
     },
     "execution_count": 132,
     "metadata": {},
     "output_type": "execute_result"
    }
   ],
   "source": [
    "model_stroke_6 = smf.ols('bmi~work_type + avg_glucose_level + ever_married + hypertension + age + stroke', data=df).fit()\n",
    "model_stroke_6.rsquared_adj"
   ]
  },
  {
   "cell_type": "markdown",
   "metadata": {},
   "source": [
    "Level 6: bmi~ work_type + avg_glucose_level + ever_married + hypertension + age + smoking_status = .23722"
   ]
  },
  {
   "cell_type": "code",
   "execution_count": 133,
   "metadata": {},
   "outputs": [
    {
     "data": {
      "text/plain": [
       "0.23708697453492888"
      ]
     },
     "execution_count": 133,
     "metadata": {},
     "output_type": "execute_result"
    }
   ],
   "source": [
    "model_gender_7 = smf.ols('bmi~work_type + avg_glucose_level + ever_married + hypertension + age + smoking_status + gender', data=df).fit()\n",
    "model_gender_7.rsquared_adj"
   ]
  },
  {
   "cell_type": "code",
   "execution_count": 134,
   "metadata": {},
   "outputs": [
    {
     "data": {
      "text/plain": [
       "0.23760178264835285"
      ]
     },
     "execution_count": 134,
     "metadata": {},
     "output_type": "execute_result"
    }
   ],
   "source": [
    "model_heart_7 = smf.ols('bmi~work_type + avg_glucose_level + ever_married + hypertension + age + smoking_status + heart_disease', data=df).fit()\n",
    "model_heart_7.rsquared_adj"
   ]
  },
  {
   "cell_type": "code",
   "execution_count": 135,
   "metadata": {},
   "outputs": [
    {
     "data": {
      "text/plain": [
       "0.23707113952558634"
      ]
     },
     "execution_count": 135,
     "metadata": {},
     "output_type": "execute_result"
    }
   ],
   "source": [
    "model_resid_7 = smf.ols('bmi~work_type + avg_glucose_level + ever_married + hypertension + age + smoking_status + Residence_type', data=df).fit()\n",
    "model_resid_7.rsquared_adj"
   ]
  },
  {
   "cell_type": "code",
   "execution_count": 136,
   "metadata": {},
   "outputs": [
    {
     "data": {
      "text/plain": [
       "0.2374846631381542"
      ]
     },
     "execution_count": 136,
     "metadata": {},
     "output_type": "execute_result"
    }
   ],
   "source": [
    "model_stroke_7 = smf.ols('bmi~work_type + avg_glucose_level + ever_married + hypertension + age + smoking_status + stroke', data=df).fit()\n",
    "model_stroke_7.rsquared_adj"
   ]
  },
  {
   "cell_type": "markdown",
   "metadata": {},
   "source": [
    "Level 7 : bmi~work_type + avg_glucose_level + ever_married + hypertension + age + smoking_status + heart_disease = .2376"
   ]
  },
  {
   "cell_type": "code",
   "execution_count": 137,
   "metadata": {},
   "outputs": [
    {
     "data": {
      "text/plain": [
       "0.23747924934640396"
      ]
     },
     "execution_count": 137,
     "metadata": {},
     "output_type": "execute_result"
    }
   ],
   "source": [
    "model_gender_8 = smf.ols('bmi~work_type + avg_glucose_level + ever_married + hypertension + age + smoking_status + heart_disease + gender', data=df).fit()\n",
    "model_gender_8.rsquared_adj"
   ]
  },
  {
   "cell_type": "code",
   "execution_count": 138,
   "metadata": {},
   "outputs": [
    {
     "data": {
      "text/plain": [
       "0.23744607152483"
      ]
     },
     "execution_count": 138,
     "metadata": {},
     "output_type": "execute_result"
    }
   ],
   "source": [
    "model_resid_8 = smf.ols('bmi~work_type + avg_glucose_level + ever_married + hypertension + age + smoking_status + heart_disease + Residence_type', data=df).fit()\n",
    "model_resid_8.rsquared_adj"
   ]
  },
  {
   "cell_type": "code",
   "execution_count": 139,
   "metadata": {},
   "outputs": [
    {
     "data": {
      "text/plain": [
       "0.2378065056087172"
      ]
     },
     "execution_count": 139,
     "metadata": {},
     "output_type": "execute_result"
    }
   ],
   "source": [
    "model_stroke_8 = smf.ols('bmi~work_type + avg_glucose_level + ever_married + hypertension + age + smoking_status + heart_disease + stroke', data=df).fit()\n",
    "model_stroke_8.rsquared_adj"
   ]
  },
  {
   "cell_type": "markdown",
   "metadata": {},
   "source": [
    "Level 8 : bmi~work_type + avg_glucose_level + ever_married + hypertension + age + smoking_status + heart_disease + stroke = .237718"
   ]
  },
  {
   "cell_type": "code",
   "execution_count": 140,
   "metadata": {},
   "outputs": [
    {
     "data": {
      "text/plain": [
       "0.23768265936968735"
      ]
     },
     "execution_count": 140,
     "metadata": {},
     "output_type": "execute_result"
    }
   ],
   "source": [
    "model_gender_9 = smf.ols('bmi~work_type + avg_glucose_level + ever_married + hypertension + age + smoking_status + heart_disease + stroke + gender', data=df).fit()\n",
    "model_gender_9.rsquared_adj"
   ]
  },
  {
   "cell_type": "code",
   "execution_count": 141,
   "metadata": {},
   "outputs": [
    {
     "data": {
      "text/plain": [
       "0.23765076780326466"
      ]
     },
     "execution_count": 141,
     "metadata": {},
     "output_type": "execute_result"
    }
   ],
   "source": [
    "model_resid_9 = smf.ols('bmi~work_type + avg_glucose_level + ever_married + hypertension + age + smoking_status + heart_disease + stroke + Residence_type', data=df).fit()\n",
    "model_resid_9.rsquared_adj"
   ]
  },
  {
   "cell_type": "markdown",
   "metadata": {},
   "source": [
    "In this round our adjusted R2 did not increase. \n",
    "\n",
    "Forward Selection Model: \n",
    "\n",
    "final model = bmi~work_type + avg_glucose_level + ever_married + hypertension + age + smoking_status + heart_disease + stroke\n",
    "\n",
    "This model does not include Gender & Residence_type"
   ]
  },
  {
   "cell_type": "code",
   "execution_count": 142,
   "metadata": {},
   "outputs": [
    {
     "data": {
      "text/plain": [
       "0.2378065056087172"
      ]
     },
     "execution_count": 142,
     "metadata": {},
     "output_type": "execute_result"
    }
   ],
   "source": [
    "final_model = smf.ols('bmi~work_type + avg_glucose_level + ever_married + hypertension + age + smoking_status + heart_disease + stroke', data=df).fit()\n",
    "final_model.rsquared_adj\n"
   ]
  },
  {
   "cell_type": "markdown",
   "metadata": {},
   "source": [
    "With an adjusted R2 value of .2378, approxiamtely 23.78% of the variance in the dependent variable is explained by the independent variabales in our final model. This value is low, it suggests that the model does not capture a large portion of the variance in bmi and the model's predictions will not be reliable."
   ]
  },
  {
   "cell_type": "code",
   "execution_count": 314,
   "metadata": {},
   "outputs": [
    {
     "data": {
      "text/plain": [
       "6.847324513334732"
      ]
     },
     "execution_count": 314,
     "metadata": {},
     "output_type": "execute_result"
    }
   ],
   "source": [
    "#Forward selection model\n",
    "from sklearn.metrics import mean_squared_error\n",
    "df_pred = final_model.predict (df)\n",
    "rms = mean_squared_error(df['bmi'], df_pred, squared=False)\n",
    "rms"
   ]
  },
  {
   "cell_type": "code",
   "execution_count": 315,
   "metadata": {},
   "outputs": [
    {
     "data": {
      "text/plain": [
       "7.352240609502648"
      ]
     },
     "execution_count": 315,
     "metadata": {},
     "output_type": "execute_result"
    }
   ],
   "source": [
    "#Original Model\n",
    "from sklearn.metrics import mean_squared_error\n",
    "df_pred_1 = model.predict (df)\n",
    "rms = mean_squared_error(df['bmi'], df_pred_1, squared=False)\n",
    "rms"
   ]
  },
  {
   "cell_type": "markdown",
   "metadata": {},
   "source": [
    "Based on the RMSE, we can see that our parsimonious model outperformed our original model. It has a lower RMSE which indicates the average difference between the models predicted values and the actual values. The forward selection model is more accurate. "
   ]
  },
  {
   "cell_type": "code",
   "execution_count": 145,
   "metadata": {},
   "outputs": [
    {
     "data": {
      "text/plain": [
       "Intercept                            26.734849\n",
       "work_type[T.Never_worked]            -3.132808\n",
       "work_type[T.Private]                  0.021364\n",
       "work_type[T.Self-employed]           -0.474623\n",
       "work_type[T.children]                -8.552651\n",
       "ever_married[T.Yes]                   2.116629\n",
       "smoking_status[T.formerly smoked]     0.786398\n",
       "smoking_status[T.never smoked]        0.358055\n",
       "smoking_status[T.smokes]              0.607406\n",
       "avg_glucose_level                     0.020387\n",
       "hypertension                          2.537691\n",
       "age                                  -0.014981\n",
       "heart_disease                        -0.831021\n",
       "stroke                               -0.769184\n",
       "dtype: float64"
      ]
     },
     "execution_count": 145,
     "metadata": {},
     "output_type": "execute_result"
    }
   ],
   "source": [
    "final_model.params"
   ]
  },
  {
   "cell_type": "code",
   "execution_count": 146,
   "metadata": {},
   "outputs": [
    {
     "data": {
      "text/html": [
       "<table class=\"simpletable\">\n",
       "<caption>OLS Regression Results</caption>\n",
       "<tr>\n",
       "  <th>Dep. Variable:</th>           <td>bmi</td>       <th>  R-squared:         </th> <td>   0.240</td> \n",
       "</tr>\n",
       "<tr>\n",
       "  <th>Model:</th>                   <td>OLS</td>       <th>  Adj. R-squared:    </th> <td>   0.238</td> \n",
       "</tr>\n",
       "<tr>\n",
       "  <th>Method:</th>             <td>Least Squares</td>  <th>  F-statistic:       </th> <td>   118.8</td> \n",
       "</tr>\n",
       "<tr>\n",
       "  <th>Date:</th>             <td>Tue, 05 Dec 2023</td> <th>  Prob (F-statistic):</th> <td>2.34e-279</td>\n",
       "</tr>\n",
       "<tr>\n",
       "  <th>Time:</th>                 <td>18:47:22</td>     <th>  Log-Likelihood:    </th> <td> -16406.</td> \n",
       "</tr>\n",
       "<tr>\n",
       "  <th>No. Observations:</th>      <td>  4908</td>      <th>  AIC:               </th> <td>3.284e+04</td>\n",
       "</tr>\n",
       "<tr>\n",
       "  <th>Df Residuals:</th>          <td>  4894</td>      <th>  BIC:               </th> <td>3.293e+04</td>\n",
       "</tr>\n",
       "<tr>\n",
       "  <th>Df Model:</th>              <td>    13</td>      <th>                     </th>     <td> </td>    \n",
       "</tr>\n",
       "<tr>\n",
       "  <th>Covariance Type:</th>      <td>nonrobust</td>    <th>                     </th>     <td> </td>    \n",
       "</tr>\n",
       "</table>\n",
       "<table class=\"simpletable\">\n",
       "<tr>\n",
       "                  <td></td>                     <th>coef</th>     <th>std err</th>      <th>t</th>      <th>P>|t|</th>  <th>[0.025</th>    <th>0.975]</th>  \n",
       "</tr>\n",
       "<tr>\n",
       "  <th>Intercept</th>                         <td>   26.7348</td> <td>    0.494</td> <td>   54.147</td> <td> 0.000</td> <td>   25.767</td> <td>   27.703</td>\n",
       "</tr>\n",
       "<tr>\n",
       "  <th>work_type[T.Never_worked]</th>         <td>   -3.1328</td> <td>    1.508</td> <td>   -2.078</td> <td> 0.038</td> <td>   -6.089</td> <td>   -0.177</td>\n",
       "</tr>\n",
       "<tr>\n",
       "  <th>work_type[T.Private]</th>              <td>    0.0214</td> <td>    0.304</td> <td>    0.070</td> <td> 0.944</td> <td>   -0.576</td> <td>    0.618</td>\n",
       "</tr>\n",
       "<tr>\n",
       "  <th>work_type[T.Self-employed]</th>        <td>   -0.4746</td> <td>    0.373</td> <td>   -1.274</td> <td> 0.203</td> <td>   -1.205</td> <td>    0.256</td>\n",
       "</tr>\n",
       "<tr>\n",
       "  <th>work_type[T.children]</th>             <td>   -8.5527</td> <td>    0.500</td> <td>  -17.112</td> <td> 0.000</td> <td>   -9.532</td> <td>   -7.573</td>\n",
       "</tr>\n",
       "<tr>\n",
       "  <th>ever_married[T.Yes]</th>               <td>    2.1166</td> <td>    0.289</td> <td>    7.316</td> <td> 0.000</td> <td>    1.549</td> <td>    2.684</td>\n",
       "</tr>\n",
       "<tr>\n",
       "  <th>smoking_status[T.formerly smoked]</th> <td>    0.7864</td> <td>    0.330</td> <td>    2.383</td> <td> 0.017</td> <td>    0.139</td> <td>    1.433</td>\n",
       "</tr>\n",
       "<tr>\n",
       "  <th>smoking_status[T.never smoked]</th>    <td>    0.3581</td> <td>    0.271</td> <td>    1.320</td> <td> 0.187</td> <td>   -0.174</td> <td>    0.890</td>\n",
       "</tr>\n",
       "<tr>\n",
       "  <th>smoking_status[T.smokes]</th>          <td>    0.6074</td> <td>    0.339</td> <td>    1.793</td> <td> 0.073</td> <td>   -0.057</td> <td>    1.272</td>\n",
       "</tr>\n",
       "<tr>\n",
       "  <th>avg_glucose_level</th>                 <td>    0.0204</td> <td>    0.002</td> <td>    8.843</td> <td> 0.000</td> <td>    0.016</td> <td>    0.025</td>\n",
       "</tr>\n",
       "<tr>\n",
       "  <th>hypertension</th>                      <td>    2.5377</td> <td>    0.358</td> <td>    7.094</td> <td> 0.000</td> <td>    1.836</td> <td>    3.239</td>\n",
       "</tr>\n",
       "<tr>\n",
       "  <th>age</th>                               <td>   -0.0150</td> <td>    0.007</td> <td>   -2.006</td> <td> 0.045</td> <td>   -0.030</td> <td>   -0.000</td>\n",
       "</tr>\n",
       "<tr>\n",
       "  <th>heart_disease</th>                     <td>   -0.8310</td> <td>    0.475</td> <td>   -1.751</td> <td> 0.080</td> <td>   -1.761</td> <td>    0.099</td>\n",
       "</tr>\n",
       "<tr>\n",
       "  <th>stroke</th>                            <td>   -0.7692</td> <td>    0.506</td> <td>   -1.521</td> <td> 0.128</td> <td>   -1.760</td> <td>    0.222</td>\n",
       "</tr>\n",
       "</table>\n",
       "<table class=\"simpletable\">\n",
       "<tr>\n",
       "  <th>Omnibus:</th>       <td>1525.651</td> <th>  Durbin-Watson:     </th> <td>   2.013</td>\n",
       "</tr>\n",
       "<tr>\n",
       "  <th>Prob(Omnibus):</th>  <td> 0.000</td>  <th>  Jarque-Bera (JB):  </th> <td>7418.607</td>\n",
       "</tr>\n",
       "<tr>\n",
       "  <th>Skew:</th>           <td> 1.419</td>  <th>  Prob(JB):          </th> <td>    0.00</td>\n",
       "</tr>\n",
       "<tr>\n",
       "  <th>Kurtosis:</th>       <td> 8.312</td>  <th>  Cond. No.          </th> <td>1.89e+03</td>\n",
       "</tr>\n",
       "</table><br/><br/>Notes:<br/>[1] Standard Errors assume that the covariance matrix of the errors is correctly specified.<br/>[2] The condition number is large, 1.89e+03. This might indicate that there are<br/>strong multicollinearity or other numerical problems."
      ],
      "text/plain": [
       "<class 'statsmodels.iolib.summary.Summary'>\n",
       "\"\"\"\n",
       "                            OLS Regression Results                            \n",
       "==============================================================================\n",
       "Dep. Variable:                    bmi   R-squared:                       0.240\n",
       "Model:                            OLS   Adj. R-squared:                  0.238\n",
       "Method:                 Least Squares   F-statistic:                     118.8\n",
       "Date:                Tue, 05 Dec 2023   Prob (F-statistic):          2.34e-279\n",
       "Time:                        18:47:22   Log-Likelihood:                -16406.\n",
       "No. Observations:                4908   AIC:                         3.284e+04\n",
       "Df Residuals:                    4894   BIC:                         3.293e+04\n",
       "Df Model:                          13                                         \n",
       "Covariance Type:            nonrobust                                         \n",
       "=====================================================================================================\n",
       "                                        coef    std err          t      P>|t|      [0.025      0.975]\n",
       "-----------------------------------------------------------------------------------------------------\n",
       "Intercept                            26.7348      0.494     54.147      0.000      25.767      27.703\n",
       "work_type[T.Never_worked]            -3.1328      1.508     -2.078      0.038      -6.089      -0.177\n",
       "work_type[T.Private]                  0.0214      0.304      0.070      0.944      -0.576       0.618\n",
       "work_type[T.Self-employed]           -0.4746      0.373     -1.274      0.203      -1.205       0.256\n",
       "work_type[T.children]                -8.5527      0.500    -17.112      0.000      -9.532      -7.573\n",
       "ever_married[T.Yes]                   2.1166      0.289      7.316      0.000       1.549       2.684\n",
       "smoking_status[T.formerly smoked]     0.7864      0.330      2.383      0.017       0.139       1.433\n",
       "smoking_status[T.never smoked]        0.3581      0.271      1.320      0.187      -0.174       0.890\n",
       "smoking_status[T.smokes]              0.6074      0.339      1.793      0.073      -0.057       1.272\n",
       "avg_glucose_level                     0.0204      0.002      8.843      0.000       0.016       0.025\n",
       "hypertension                          2.5377      0.358      7.094      0.000       1.836       3.239\n",
       "age                                  -0.0150      0.007     -2.006      0.045      -0.030      -0.000\n",
       "heart_disease                        -0.8310      0.475     -1.751      0.080      -1.761       0.099\n",
       "stroke                               -0.7692      0.506     -1.521      0.128      -1.760       0.222\n",
       "==============================================================================\n",
       "Omnibus:                     1525.651   Durbin-Watson:                   2.013\n",
       "Prob(Omnibus):                  0.000   Jarque-Bera (JB):             7418.607\n",
       "Skew:                           1.419   Prob(JB):                         0.00\n",
       "Kurtosis:                       8.312   Cond. No.                     1.89e+03\n",
       "==============================================================================\n",
       "\n",
       "Notes:\n",
       "[1] Standard Errors assume that the covariance matrix of the errors is correctly specified.\n",
       "[2] The condition number is large, 1.89e+03. This might indicate that there are\n",
       "strong multicollinearity or other numerical problems.\n",
       "\"\"\""
      ]
     },
     "execution_count": 146,
     "metadata": {},
     "output_type": "execute_result"
    }
   ],
   "source": [
    "final_model.summary()"
   ]
  },
  {
   "cell_type": "markdown",
   "metadata": {},
   "source": [
    "Interpretting age coefficient: \n",
    "For every 1 unit increase in a subjects average glucose level, a patients estimated BMI will increase by 0.0204, on average. Holding all other variables constant."
   ]
  },
  {
   "cell_type": "markdown",
   "metadata": {},
   "source": [
    "Prediction:\n",
    "\n",
    "Predict the BMI for an individual that is self employed, married, has never smoked, and is 55."
   ]
  },
  {
   "cell_type": "markdown",
   "metadata": {},
   "source": [
    "BMI = 26.7348 - 0.4746 (1) + 2.1166 (1) + 0.3581 (1) - 0.0150 (55) \n",
    "\n",
    "Predicted BMI = 27.8999"
   ]
  },
  {
   "cell_type": "markdown",
   "metadata": {},
   "source": [
    "Research Questions: \n",
    "- Is there a linear relationship between an indivdiauls BMI and their gender, age, average glucose level, and their hypertension?\n",
    "\n",
    "- What variables should be included to build a parsimonious model for predicting bmi?\n",
    "\n",
    "Our linear regression model quantified the strength of the relationships betwen BMI and our predictor variables separately. Telling us how each variable may increase or decrease BMI. \n",
    "Our model also allows us to predict one's BMI based on these factors. \n",
    "\n",
    "Through feature selection, we were able to determine which variables impacted a subject's BMI the most. This final model was : \n",
    "final model = bmi~work_type + avg_glucose_level + ever_married + hypertension + age + smoking_status + heart_disease + stroke\n",
    "\n",
    "Telling us that these predictors were able to best explain the variation of the dependent variable explained by our predictors.\n"
   ]
  },
  {
   "cell_type": "markdown",
   "metadata": {},
   "source": [
    "## 3. Logistic Regression and Classification"
   ]
  },
  {
   "cell_type": "markdown",
   "metadata": {},
   "source": [
    "Logistic Regression Research Questions:\n",
    "\n",
    "Is there a linear relationship between an individuals age, having hypertension, BMI, and average glucose level, and the likelihood of an individual having a stroke?\n",
    "\n",
    "How well will our logistic model perform on training data?\n",
    "\n",
    "How will will our logisitc model perform on new data?\n"
   ]
  },
  {
   "cell_type": "markdown",
   "metadata": {},
   "source": [
    "In our original dataset we can see that the stroke variable is highly unbalanced. This is why we chose to create a sample with all of the 'yes' stroke values, and added 1100 random, 'no' stroke values. This gave me a new, balanced dataset with 'yes' stroke representing ~16% of the data rather than ~4%. This is more representative of the population and it eliminates underrepresentation and bias in the dataset, allowing for a more even distribution."
   ]
  },
  {
   "cell_type": "code",
   "execution_count": 316,
   "metadata": {},
   "outputs": [
    {
     "name": "stdout",
     "output_type": "stream",
     "text": [
      "0    0.957416\n",
      "1    0.042584\n",
      "Name: stroke, dtype: float64\n"
     ]
    }
   ],
   "source": [
    "\n",
    "print(df['stroke'].value_counts(normalize=True))"
   ]
  },
  {
   "cell_type": "code",
   "execution_count": 161,
   "metadata": {},
   "outputs": [
    {
     "name": "stdout",
     "output_type": "stream",
     "text": [
      "0    0.840336\n",
      "1    0.159664\n",
      "Name: stroke, dtype: float64\n"
     ]
    }
   ],
   "source": [
    "print(balanced['stroke'].value_counts(normalize=True))"
   ]
  },
  {
   "cell_type": "code",
   "execution_count": 317,
   "metadata": {},
   "outputs": [
    {
     "data": {
      "text/html": [
       "<div>\n",
       "<style scoped>\n",
       "    .dataframe tbody tr th:only-of-type {\n",
       "        vertical-align: middle;\n",
       "    }\n",
       "\n",
       "    .dataframe tbody tr th {\n",
       "        vertical-align: top;\n",
       "    }\n",
       "\n",
       "    .dataframe thead th {\n",
       "        text-align: right;\n",
       "    }\n",
       "</style>\n",
       "<table border=\"1\" class=\"dataframe\">\n",
       "  <thead>\n",
       "    <tr style=\"text-align: right;\">\n",
       "      <th></th>\n",
       "      <th>id</th>\n",
       "      <th>gender</th>\n",
       "      <th>age</th>\n",
       "      <th>hypertension</th>\n",
       "      <th>heart_disease</th>\n",
       "      <th>ever_married</th>\n",
       "      <th>work_type</th>\n",
       "      <th>Residence_type</th>\n",
       "      <th>avg_glucose_level</th>\n",
       "      <th>bmi</th>\n",
       "      <th>smoking_status</th>\n",
       "      <th>stroke</th>\n",
       "    </tr>\n",
       "  </thead>\n",
       "  <tbody>\n",
       "    <tr>\n",
       "      <th>0</th>\n",
       "      <td>9046</td>\n",
       "      <td>Male</td>\n",
       "      <td>67.0</td>\n",
       "      <td>0</td>\n",
       "      <td>1</td>\n",
       "      <td>Yes</td>\n",
       "      <td>Private</td>\n",
       "      <td>Urban</td>\n",
       "      <td>228.69</td>\n",
       "      <td>36.6</td>\n",
       "      <td>formerly smoked</td>\n",
       "      <td>1</td>\n",
       "    </tr>\n",
       "    <tr>\n",
       "      <th>2</th>\n",
       "      <td>31112</td>\n",
       "      <td>Male</td>\n",
       "      <td>80.0</td>\n",
       "      <td>0</td>\n",
       "      <td>1</td>\n",
       "      <td>Yes</td>\n",
       "      <td>Private</td>\n",
       "      <td>Rural</td>\n",
       "      <td>105.92</td>\n",
       "      <td>32.5</td>\n",
       "      <td>never smoked</td>\n",
       "      <td>1</td>\n",
       "    </tr>\n",
       "    <tr>\n",
       "      <th>3</th>\n",
       "      <td>60182</td>\n",
       "      <td>Female</td>\n",
       "      <td>49.0</td>\n",
       "      <td>0</td>\n",
       "      <td>0</td>\n",
       "      <td>Yes</td>\n",
       "      <td>Private</td>\n",
       "      <td>Urban</td>\n",
       "      <td>171.23</td>\n",
       "      <td>34.4</td>\n",
       "      <td>smokes</td>\n",
       "      <td>1</td>\n",
       "    </tr>\n",
       "    <tr>\n",
       "      <th>4</th>\n",
       "      <td>1665</td>\n",
       "      <td>Female</td>\n",
       "      <td>79.0</td>\n",
       "      <td>1</td>\n",
       "      <td>0</td>\n",
       "      <td>Yes</td>\n",
       "      <td>Self-employed</td>\n",
       "      <td>Rural</td>\n",
       "      <td>174.12</td>\n",
       "      <td>24.0</td>\n",
       "      <td>never smoked</td>\n",
       "      <td>1</td>\n",
       "    </tr>\n",
       "    <tr>\n",
       "      <th>5</th>\n",
       "      <td>56669</td>\n",
       "      <td>Male</td>\n",
       "      <td>81.0</td>\n",
       "      <td>0</td>\n",
       "      <td>0</td>\n",
       "      <td>Yes</td>\n",
       "      <td>Private</td>\n",
       "      <td>Urban</td>\n",
       "      <td>186.21</td>\n",
       "      <td>29.0</td>\n",
       "      <td>formerly smoked</td>\n",
       "      <td>1</td>\n",
       "    </tr>\n",
       "    <tr>\n",
       "      <th>...</th>\n",
       "      <td>...</td>\n",
       "      <td>...</td>\n",
       "      <td>...</td>\n",
       "      <td>...</td>\n",
       "      <td>...</td>\n",
       "      <td>...</td>\n",
       "      <td>...</td>\n",
       "      <td>...</td>\n",
       "      <td>...</td>\n",
       "      <td>...</td>\n",
       "      <td>...</td>\n",
       "      <td>...</td>\n",
       "    </tr>\n",
       "    <tr>\n",
       "      <th>4875</th>\n",
       "      <td>14785</td>\n",
       "      <td>Female</td>\n",
       "      <td>41.0</td>\n",
       "      <td>0</td>\n",
       "      <td>0</td>\n",
       "      <td>Yes</td>\n",
       "      <td>Private</td>\n",
       "      <td>Rural</td>\n",
       "      <td>92.64</td>\n",
       "      <td>43.8</td>\n",
       "      <td>never smoked</td>\n",
       "      <td>0</td>\n",
       "    </tr>\n",
       "    <tr>\n",
       "      <th>3365</th>\n",
       "      <td>59671</td>\n",
       "      <td>Female</td>\n",
       "      <td>39.0</td>\n",
       "      <td>0</td>\n",
       "      <td>0</td>\n",
       "      <td>No</td>\n",
       "      <td>Private</td>\n",
       "      <td>Rural</td>\n",
       "      <td>85.59</td>\n",
       "      <td>33.2</td>\n",
       "      <td>Unknown</td>\n",
       "      <td>0</td>\n",
       "    </tr>\n",
       "    <tr>\n",
       "      <th>3502</th>\n",
       "      <td>43397</td>\n",
       "      <td>Male</td>\n",
       "      <td>81.0</td>\n",
       "      <td>0</td>\n",
       "      <td>1</td>\n",
       "      <td>Yes</td>\n",
       "      <td>Self-employed</td>\n",
       "      <td>Rural</td>\n",
       "      <td>68.27</td>\n",
       "      <td>25.0</td>\n",
       "      <td>Unknown</td>\n",
       "      <td>0</td>\n",
       "    </tr>\n",
       "    <tr>\n",
       "      <th>2060</th>\n",
       "      <td>68816</td>\n",
       "      <td>Male</td>\n",
       "      <td>59.0</td>\n",
       "      <td>0</td>\n",
       "      <td>0</td>\n",
       "      <td>Yes</td>\n",
       "      <td>Private</td>\n",
       "      <td>Rural</td>\n",
       "      <td>93.90</td>\n",
       "      <td>42.2</td>\n",
       "      <td>never smoked</td>\n",
       "      <td>0</td>\n",
       "    </tr>\n",
       "    <tr>\n",
       "      <th>4199</th>\n",
       "      <td>63404</td>\n",
       "      <td>Female</td>\n",
       "      <td>44.0</td>\n",
       "      <td>0</td>\n",
       "      <td>0</td>\n",
       "      <td>Yes</td>\n",
       "      <td>Private</td>\n",
       "      <td>Rural</td>\n",
       "      <td>87.71</td>\n",
       "      <td>34.0</td>\n",
       "      <td>formerly smoked</td>\n",
       "      <td>0</td>\n",
       "    </tr>\n",
       "  </tbody>\n",
       "</table>\n",
       "<p>1309 rows × 12 columns</p>\n",
       "</div>"
      ],
      "text/plain": [
       "         id  gender   age  hypertension  heart_disease ever_married  \\\n",
       "0      9046    Male  67.0             0              1          Yes   \n",
       "2     31112    Male  80.0             0              1          Yes   \n",
       "3     60182  Female  49.0             0              0          Yes   \n",
       "4      1665  Female  79.0             1              0          Yes   \n",
       "5     56669    Male  81.0             0              0          Yes   \n",
       "...     ...     ...   ...           ...            ...          ...   \n",
       "4875  14785  Female  41.0             0              0          Yes   \n",
       "3365  59671  Female  39.0             0              0           No   \n",
       "3502  43397    Male  81.0             0              1          Yes   \n",
       "2060  68816    Male  59.0             0              0          Yes   \n",
       "4199  63404  Female  44.0             0              0          Yes   \n",
       "\n",
       "          work_type Residence_type  avg_glucose_level   bmi   smoking_status  \\\n",
       "0           Private          Urban             228.69  36.6  formerly smoked   \n",
       "2           Private          Rural             105.92  32.5     never smoked   \n",
       "3           Private          Urban             171.23  34.4           smokes   \n",
       "4     Self-employed          Rural             174.12  24.0     never smoked   \n",
       "5           Private          Urban             186.21  29.0  formerly smoked   \n",
       "...             ...            ...                ...   ...              ...   \n",
       "4875        Private          Rural              92.64  43.8     never smoked   \n",
       "3365        Private          Rural              85.59  33.2          Unknown   \n",
       "3502  Self-employed          Rural              68.27  25.0          Unknown   \n",
       "2060        Private          Rural              93.90  42.2     never smoked   \n",
       "4199        Private          Rural              87.71  34.0  formerly smoked   \n",
       "\n",
       "      stroke  \n",
       "0          1  \n",
       "2          1  \n",
       "3          1  \n",
       "4          1  \n",
       "5          1  \n",
       "...      ...  \n",
       "4875       0  \n",
       "3365       0  \n",
       "3502       0  \n",
       "2060       0  \n",
       "4199       0  \n",
       "\n",
       "[1309 rows x 12 columns]"
      ]
     },
     "execution_count": 317,
     "metadata": {},
     "output_type": "execute_result"
    }
   ],
   "source": [
    "yes_stroke = df[df['stroke'] == 1]\n",
    "no_stroke = df[df['stroke']==0]\n",
    "\n",
    "random_sample = no_stroke.sample(n=1100, random_state = 40)\n",
    "balanced = pd.concat([yes_stroke, random_sample])\n",
    "balanced\n",
    "#This is our sampled, representative dataset."
   ]
  },
  {
   "cell_type": "code",
   "execution_count": 182,
   "metadata": {},
   "outputs": [],
   "source": [
    "#Train Test split\n",
    "df_train, df_test = train_test_split(balanced, test_size = 0.2, random_state = 30)"
   ]
  },
  {
   "cell_type": "code",
   "execution_count": 318,
   "metadata": {},
   "outputs": [
    {
     "data": {
      "text/html": [
       "<div>\n",
       "<style scoped>\n",
       "    .dataframe tbody tr th:only-of-type {\n",
       "        vertical-align: middle;\n",
       "    }\n",
       "\n",
       "    .dataframe tbody tr th {\n",
       "        vertical-align: top;\n",
       "    }\n",
       "\n",
       "    .dataframe thead th {\n",
       "        text-align: right;\n",
       "    }\n",
       "</style>\n",
       "<table border=\"1\" class=\"dataframe\">\n",
       "  <thead>\n",
       "    <tr style=\"text-align: right;\">\n",
       "      <th></th>\n",
       "      <th>age</th>\n",
       "      <th>hypertension</th>\n",
       "      <th>bmi</th>\n",
       "      <th>avg_glucose_level</th>\n",
       "    </tr>\n",
       "  </thead>\n",
       "  <tbody>\n",
       "    <tr>\n",
       "      <th>0</th>\n",
       "      <td>1.403302</td>\n",
       "      <td>-0.335628</td>\n",
       "      <td>0.312727</td>\n",
       "      <td>-0.236679</td>\n",
       "    </tr>\n",
       "    <tr>\n",
       "      <th>1</th>\n",
       "      <td>1.403302</td>\n",
       "      <td>-0.335628</td>\n",
       "      <td>-0.097979</td>\n",
       "      <td>-0.920665</td>\n",
       "    </tr>\n",
       "    <tr>\n",
       "      <th>2</th>\n",
       "      <td>-1.132994</td>\n",
       "      <td>-0.335628</td>\n",
       "      <td>-0.521932</td>\n",
       "      <td>-0.294841</td>\n",
       "    </tr>\n",
       "    <tr>\n",
       "      <th>3</th>\n",
       "      <td>-1.259808</td>\n",
       "      <td>-0.335628</td>\n",
       "      <td>-1.263851</td>\n",
       "      <td>-0.529181</td>\n",
       "    </tr>\n",
       "    <tr>\n",
       "      <th>4</th>\n",
       "      <td>-0.160747</td>\n",
       "      <td>-0.335628</td>\n",
       "      <td>-0.839897</td>\n",
       "      <td>-0.559426</td>\n",
       "    </tr>\n",
       "  </tbody>\n",
       "</table>\n",
       "</div>"
      ],
      "text/plain": [
       "        age  hypertension       bmi  avg_glucose_level\n",
       "0  1.403302     -0.335628  0.312727          -0.236679\n",
       "1  1.403302     -0.335628 -0.097979          -0.920665\n",
       "2 -1.132994     -0.335628 -0.521932          -0.294841\n",
       "3 -1.259808     -0.335628 -1.263851          -0.529181\n",
       "4 -0.160747     -0.335628 -0.839897          -0.559426"
      ]
     },
     "execution_count": 318,
     "metadata": {},
     "output_type": "execute_result"
    }
   ],
   "source": [
    "#Scale variables\n",
    "x_train = df_train[['age', 'hypertension', 'bmi', 'avg_glucose_level']]\n",
    "Scaler_training = StandardScaler()\n",
    "Scaled_explanatory_variables = Scaler_training.fit_transform(x_train)\n",
    "x_train = pd.DataFrame(Scaled_explanatory_variables, columns = x_train.columns)\n",
    "x_train.head()"
   ]
  },
  {
   "cell_type": "code",
   "execution_count": 186,
   "metadata": {},
   "outputs": [
    {
     "data": {
      "text/html": [
       "<div>\n",
       "<style scoped>\n",
       "    .dataframe tbody tr th:only-of-type {\n",
       "        vertical-align: middle;\n",
       "    }\n",
       "\n",
       "    .dataframe tbody tr th {\n",
       "        vertical-align: top;\n",
       "    }\n",
       "\n",
       "    .dataframe thead th {\n",
       "        text-align: right;\n",
       "    }\n",
       "</style>\n",
       "<table border=\"1\" class=\"dataframe\">\n",
       "  <thead>\n",
       "    <tr style=\"text-align: right;\">\n",
       "      <th></th>\n",
       "      <th>age</th>\n",
       "      <th>hypertension</th>\n",
       "      <th>bmi</th>\n",
       "      <th>avg_glucose_level</th>\n",
       "    </tr>\n",
       "  </thead>\n",
       "  <tbody>\n",
       "    <tr>\n",
       "      <th>0</th>\n",
       "      <td>0.239637</td>\n",
       "      <td>-0.379611</td>\n",
       "      <td>-0.279411</td>\n",
       "      <td>-0.541119</td>\n",
       "    </tr>\n",
       "    <tr>\n",
       "      <th>1</th>\n",
       "      <td>0.934062</td>\n",
       "      <td>-0.379611</td>\n",
       "      <td>0.259857</td>\n",
       "      <td>-0.168737</td>\n",
       "    </tr>\n",
       "    <tr>\n",
       "      <th>2</th>\n",
       "      <td>-0.671797</td>\n",
       "      <td>-0.379611</td>\n",
       "      <td>-0.365204</td>\n",
       "      <td>-0.050133</td>\n",
       "    </tr>\n",
       "    <tr>\n",
       "      <th>3</th>\n",
       "      <td>-1.366223</td>\n",
       "      <td>-0.379611</td>\n",
       "      <td>1.485468</td>\n",
       "      <td>0.594009</td>\n",
       "    </tr>\n",
       "    <tr>\n",
       "      <th>4</th>\n",
       "      <td>0.543448</td>\n",
       "      <td>-0.379611</td>\n",
       "      <td>-0.083313</td>\n",
       "      <td>-0.636892</td>\n",
       "    </tr>\n",
       "  </tbody>\n",
       "</table>\n",
       "</div>"
      ],
      "text/plain": [
       "        age  hypertension       bmi  avg_glucose_level\n",
       "0  0.239637     -0.379611 -0.279411          -0.541119\n",
       "1  0.934062     -0.379611  0.259857          -0.168737\n",
       "2 -0.671797     -0.379611 -0.365204          -0.050133\n",
       "3 -1.366223     -0.379611  1.485468           0.594009\n",
       "4  0.543448     -0.379611 -0.083313          -0.636892"
      ]
     },
     "execution_count": 186,
     "metadata": {},
     "output_type": "execute_result"
    }
   ],
   "source": [
    "X_test = df_test[['age', 'hypertension', 'bmi', 'avg_glucose_level']]\n",
    "Scaler_training = StandardScaler()\n",
    "Scaled_explanatory_variables = Scaler_training.fit_transform(X_test)\n",
    "X_test = pd.DataFrame(Scaled_explanatory_variables, columns = X_test.columns)\n",
    "X_test.head()"
   ]
  },
  {
   "cell_type": "code",
   "execution_count": 319,
   "metadata": {},
   "outputs": [
    {
     "name": "stdout",
     "output_type": "stream",
     "text": [
      "Optimization terminated successfully.\n",
      "         Current function value: 0.332285\n",
      "         Iterations 8\n"
     ]
    },
    {
     "data": {
      "text/html": [
       "<table class=\"simpletable\">\n",
       "<caption>Logit Regression Results</caption>\n",
       "<tr>\n",
       "  <th>Dep. Variable:</th>        <td>stroke</td>      <th>  No. Observations:  </th>  <td>  1047</td>  \n",
       "</tr>\n",
       "<tr>\n",
       "  <th>Model:</th>                 <td>Logit</td>      <th>  Df Residuals:      </th>  <td>  1042</td>  \n",
       "</tr>\n",
       "<tr>\n",
       "  <th>Method:</th>                 <td>MLE</td>       <th>  Df Model:          </th>  <td>     4</td>  \n",
       "</tr>\n",
       "<tr>\n",
       "  <th>Date:</th>            <td>Wed, 06 Dec 2023</td> <th>  Pseudo R-squ.:     </th>  <td>0.2455</td>  \n",
       "</tr>\n",
       "<tr>\n",
       "  <th>Time:</th>                <td>00:23:53</td>     <th>  Log-Likelihood:    </th> <td> -347.90</td> \n",
       "</tr>\n",
       "<tr>\n",
       "  <th>converged:</th>             <td>True</td>       <th>  LL-Null:           </th> <td> -461.13</td> \n",
       "</tr>\n",
       "<tr>\n",
       "  <th>Covariance Type:</th>     <td>nonrobust</td>    <th>  LLR p-value:       </th> <td>7.653e-48</td>\n",
       "</tr>\n",
       "</table>\n",
       "<table class=\"simpletable\">\n",
       "<tr>\n",
       "          <td></td>             <th>coef</th>     <th>std err</th>      <th>z</th>      <th>P>|z|</th>  <th>[0.025</th>    <th>0.975]</th>  \n",
       "</tr>\n",
       "<tr>\n",
       "  <th>Intercept</th>         <td>   -6.2523</td> <td>    0.673</td> <td>   -9.292</td> <td> 0.000</td> <td>   -7.571</td> <td>   -4.933</td>\n",
       "</tr>\n",
       "<tr>\n",
       "  <th>age</th>               <td>    0.0666</td> <td>    0.007</td> <td>    9.958</td> <td> 0.000</td> <td>    0.054</td> <td>    0.080</td>\n",
       "</tr>\n",
       "<tr>\n",
       "  <th>hypertension</th>      <td>    0.7919</td> <td>    0.241</td> <td>    3.286</td> <td> 0.001</td> <td>    0.320</td> <td>    1.264</td>\n",
       "</tr>\n",
       "<tr>\n",
       "  <th>bmi</th>               <td>    0.0098</td> <td>    0.015</td> <td>    0.654</td> <td> 0.513</td> <td>   -0.020</td> <td>    0.039</td>\n",
       "</tr>\n",
       "<tr>\n",
       "  <th>avg_glucose_level</th> <td>    0.0033</td> <td>    0.002</td> <td>    1.890</td> <td> 0.059</td> <td>   -0.000</td> <td>    0.007</td>\n",
       "</tr>\n",
       "</table>"
      ],
      "text/plain": [
       "<class 'statsmodels.iolib.summary.Summary'>\n",
       "\"\"\"\n",
       "                           Logit Regression Results                           \n",
       "==============================================================================\n",
       "Dep. Variable:                 stroke   No. Observations:                 1047\n",
       "Model:                          Logit   Df Residuals:                     1042\n",
       "Method:                           MLE   Df Model:                            4\n",
       "Date:                Wed, 06 Dec 2023   Pseudo R-squ.:                  0.2455\n",
       "Time:                        00:23:53   Log-Likelihood:                -347.90\n",
       "converged:                       True   LL-Null:                       -461.13\n",
       "Covariance Type:            nonrobust   LLR p-value:                 7.653e-48\n",
       "=====================================================================================\n",
       "                        coef    std err          z      P>|z|      [0.025      0.975]\n",
       "-------------------------------------------------------------------------------------\n",
       "Intercept            -6.2523      0.673     -9.292      0.000      -7.571      -4.933\n",
       "age                   0.0666      0.007      9.958      0.000       0.054       0.080\n",
       "hypertension          0.7919      0.241      3.286      0.001       0.320       1.264\n",
       "bmi                   0.0098      0.015      0.654      0.513      -0.020       0.039\n",
       "avg_glucose_level     0.0033      0.002      1.890      0.059      -0.000       0.007\n",
       "=====================================================================================\n",
       "\"\"\""
      ]
     },
     "execution_count": 319,
     "metadata": {},
     "output_type": "execute_result"
    }
   ],
   "source": [
    "#Logisitc Model\n",
    "log_model = smf.logit('stroke ~ age + hypertension + bmi + avg_glucose_level', data=df_train).fit()\n",
    "log_model.summary()"
   ]
  },
  {
   "cell_type": "markdown",
   "metadata": {},
   "source": [
    "Ln(p-hat/ 1 - p-hat) = -6.2523 + 0.0666 (age) + 0.7919 (hypertension) + 0.0098(bmi) + 0.0033 (avg_glucose)"
   ]
  },
  {
   "cell_type": "code",
   "execution_count": 231,
   "metadata": {},
   "outputs": [
    {
     "data": {
      "text/plain": [
       "0.24554302767546732"
      ]
     },
     "execution_count": 231,
     "metadata": {},
     "output_type": "execute_result"
    }
   ],
   "source": [
    "log_model.prsquared"
   ]
  },
  {
   "cell_type": "markdown",
   "metadata": {},
   "source": [
    "The pseudo-R2 tells us how well the independent variables explain the variation in the dependent varaible and the overall strength."
   ]
  },
  {
   "cell_type": "code",
   "execution_count": 323,
   "metadata": {},
   "outputs": [],
   "source": [
    "from sklearn.metrics import roc_curve, auc"
   ]
  },
  {
   "cell_type": "code",
   "execution_count": 324,
   "metadata": {},
   "outputs": [],
   "source": [
    "df_train['p-hat'] = log_model.predict(df_train)\n",
    "fprs, tprs, thresholds = roc_curve(y_true = df_train['stroke'],\n",
    "                                  y_score = df_train['p-hat'])"
   ]
  },
  {
   "cell_type": "code",
   "execution_count": 325,
   "metadata": {},
   "outputs": [
    {
     "data": {
      "text/html": [
       "<div>\n",
       "<style scoped>\n",
       "    .dataframe tbody tr th:only-of-type {\n",
       "        vertical-align: middle;\n",
       "    }\n",
       "\n",
       "    .dataframe tbody tr th {\n",
       "        vertical-align: top;\n",
       "    }\n",
       "\n",
       "    .dataframe thead th {\n",
       "        text-align: right;\n",
       "    }\n",
       "</style>\n",
       "<table border=\"1\" class=\"dataframe\">\n",
       "  <thead>\n",
       "    <tr style=\"text-align: right;\">\n",
       "      <th></th>\n",
       "      <th>fpr</th>\n",
       "      <th>tpr</th>\n",
       "    </tr>\n",
       "  </thead>\n",
       "  <tbody>\n",
       "    <tr>\n",
       "      <th>0</th>\n",
       "      <td>0.000000</td>\n",
       "      <td>0.000000</td>\n",
       "    </tr>\n",
       "    <tr>\n",
       "      <th>1</th>\n",
       "      <td>0.001138</td>\n",
       "      <td>0.000000</td>\n",
       "    </tr>\n",
       "    <tr>\n",
       "      <th>2</th>\n",
       "      <td>0.001138</td>\n",
       "      <td>0.011905</td>\n",
       "    </tr>\n",
       "    <tr>\n",
       "      <th>3</th>\n",
       "      <td>0.002275</td>\n",
       "      <td>0.011905</td>\n",
       "    </tr>\n",
       "    <tr>\n",
       "      <th>4</th>\n",
       "      <td>0.002275</td>\n",
       "      <td>0.017857</td>\n",
       "    </tr>\n",
       "    <tr>\n",
       "      <th>...</th>\n",
       "      <td>...</td>\n",
       "      <td>...</td>\n",
       "    </tr>\n",
       "    <tr>\n",
       "      <th>251</th>\n",
       "      <td>0.646189</td>\n",
       "      <td>0.988095</td>\n",
       "    </tr>\n",
       "    <tr>\n",
       "      <th>252</th>\n",
       "      <td>0.646189</td>\n",
       "      <td>0.994048</td>\n",
       "    </tr>\n",
       "    <tr>\n",
       "      <th>253</th>\n",
       "      <td>0.857793</td>\n",
       "      <td>0.994048</td>\n",
       "    </tr>\n",
       "    <tr>\n",
       "      <th>254</th>\n",
       "      <td>0.857793</td>\n",
       "      <td>1.000000</td>\n",
       "    </tr>\n",
       "    <tr>\n",
       "      <th>255</th>\n",
       "      <td>1.000000</td>\n",
       "      <td>1.000000</td>\n",
       "    </tr>\n",
       "  </tbody>\n",
       "</table>\n",
       "<p>256 rows × 2 columns</p>\n",
       "</div>"
      ],
      "text/plain": [
       "          fpr       tpr\n",
       "0    0.000000  0.000000\n",
       "1    0.001138  0.000000\n",
       "2    0.001138  0.011905\n",
       "3    0.002275  0.011905\n",
       "4    0.002275  0.017857\n",
       "..        ...       ...\n",
       "251  0.646189  0.988095\n",
       "252  0.646189  0.994048\n",
       "253  0.857793  0.994048\n",
       "254  0.857793  1.000000\n",
       "255  1.000000  1.000000\n",
       "\n",
       "[256 rows x 2 columns]"
      ]
     },
     "execution_count": 325,
     "metadata": {},
     "output_type": "execute_result"
    }
   ],
   "source": [
    "pd.DataFrame({'fpr':fprs, 'tpr':tprs})"
   ]
  },
  {
   "cell_type": "code",
   "execution_count": 326,
   "metadata": {},
   "outputs": [
    {
     "data": {
      "text/plain": [
       "0.8376808061108403"
      ]
     },
     "execution_count": 326,
     "metadata": {},
     "output_type": "execute_result"
    }
   ],
   "source": [
    "from sklearn.metrics import roc_auc_score\n",
    "auc = roc_auc_score(y_true = df_train['stroke'],\n",
    "                   y_score = df_train['p-hat'])\n",
    "auc"
   ]
  },
  {
   "cell_type": "code",
   "execution_count": 327,
   "metadata": {},
   "outputs": [
    {
     "data": {
      "image/png": "[encoded data removed]",
      "text/plain": [
       "<Figure size 640x480 with 1 Axes>"
      ]
     },
     "metadata": {},
     "output_type": "display_data"
    }
   ],
   "source": [
    "#Train ROC\n",
    "def plot_roc(fpr, tpr, auc, lw = 2):\n",
    "    plt.plot(fpr, tpr, color = 'darkorange',\n",
    "        label = 'ROC curve (area '+str(round(auc, 3))+')')\n",
    "    plt.plot([0, 1], [0, 1], color = 'navy', lw = lw, linestyle = '--')\n",
    "    plt.xlabel('False Positive Rate')\n",
    "    plt.ylabel('True Positive Rate')\n",
    "    plt.title('ROC Curve')\n",
    "    plt.legend(loc = 'lower right')\n",
    "    plt.show()\n",
    "plot_roc(fprs, tprs, auc)"
   ]
  },
  {
   "cell_type": "markdown",
   "metadata": {},
   "source": []
  },
  {
   "cell_type": "markdown",
   "metadata": {},
   "source": [
    "In the context of our question we would want to limit the false negatives and choose a threshold that maximizes our true positive rate. This is because a false negative would be predicting someone not to have a stroke, but them actually having one. Based on this criteria I would want to select a threshold ~ TPR ~ 0.68 and a FPR ~.19.\n",
    "\n"
   ]
  },
  {
   "cell_type": "code",
   "execution_count": 254,
   "metadata": {},
   "outputs": [],
   "source": [
    "from sklearn.metrics import confusion_matrix\n",
    "def fpr_tpr_thresh(y, pred_prob, thresh):\n",
    "    yhat = 1*(pred_prob >= thresh)\n",
    "    tn, fp, fn, tp = confusion_matrix(y_true=y, y_pred=yhat).ravel()\n",
    "    tpr = tp / (fn + tp)\n",
    "    fpr = fp / (fp + tn)\n",
    "    return pd.DataFrame({'threshold':[thresh],\n",
    "                         'fpr':[fpr], \n",
    "                         'tpr':[tpr]})"
   ]
  },
  {
   "cell_type": "code",
   "execution_count": 255,
   "metadata": {},
   "outputs": [
    {
     "name": "stdout",
     "output_type": "stream",
     "text": [
      "   threshold  fpr  tpr\n",
      "0        0.0  1.0  1.0\n",
      "   threshold       fpr       tpr\n",
      "0       0.01  0.821388  0.994048\n",
      "   threshold      fpr       tpr\n",
      "0       0.02  0.70876  0.994048\n",
      "   threshold       fpr       tpr\n",
      "0       0.03  0.631399  0.988095\n",
      "   threshold       fpr       tpr\n",
      "0       0.04  0.575654  0.982143\n",
      "   threshold       fpr      tpr\n",
      "0       0.05  0.536974  0.97619\n",
      "   threshold       fpr       tpr\n",
      "0       0.06  0.497156  0.964286\n",
      "   threshold       fpr       tpr\n",
      "0       0.07  0.467577  0.946429\n",
      "   threshold       fpr       tpr\n",
      "0       0.08  0.439135  0.928571\n",
      "   threshold       fpr       tpr\n",
      "0       0.09  0.426621  0.922619\n",
      "   threshold       fpr       tpr\n",
      "0        0.1  0.401593  0.904762\n",
      "   threshold       fpr       tpr\n",
      "0       0.11  0.379977  0.892857\n",
      "   threshold       fpr       tpr\n",
      "0       0.12  0.354949  0.869048\n",
      "   threshold       fpr       tpr\n",
      "0       0.13  0.337884  0.863095\n",
      "   threshold       fpr      tpr\n",
      "0       0.14  0.326507  0.85119\n",
      "   threshold       fpr       tpr\n",
      "0       0.15  0.304892  0.833333\n",
      "   threshold      fpr       tpr\n",
      "0       0.16  0.29124  0.815476\n",
      "   threshold       fpr       tpr\n",
      "0       0.17  0.273038  0.785714\n",
      "   threshold      fpr       tpr\n",
      "0       0.18  0.25711  0.767857\n",
      "   threshold       fpr       tpr\n",
      "0       0.19  0.242321  0.744048\n",
      "   threshold       fpr       tpr\n",
      "0        0.2  0.230944  0.720238\n",
      "   threshold       fpr       tpr\n",
      "0       0.21  0.221843  0.708333\n",
      "   threshold       fpr       tpr\n",
      "0       0.22  0.211604  0.684524\n",
      "   threshold       fpr       tpr\n",
      "0       0.23  0.197952  0.684524\n",
      "   threshold       fpr       tpr\n",
      "0       0.24  0.189989  0.678571\n",
      "   threshold       fpr       tpr\n",
      "0       0.25  0.178612  0.660714\n",
      "   threshold       fpr    tpr\n",
      "0       0.26  0.172924  0.625\n",
      "   threshold       fpr       tpr\n",
      "0       0.27  0.169511  0.613095\n",
      "   threshold      fpr       tpr\n",
      "0       0.28  0.16041  0.607143\n",
      "   threshold       fpr      tpr\n",
      "0       0.29  0.153584  0.60119\n",
      "   threshold      fpr       tpr\n",
      "0        0.3  0.14562  0.589286\n",
      "   threshold       fpr       tpr\n",
      "0       0.31  0.134243  0.577381\n",
      "   threshold       fpr       tpr\n",
      "0       0.32  0.127418  0.565476\n",
      "   threshold       fpr       tpr\n",
      "0       0.33  0.121729  0.529762\n",
      "   threshold       fpr       tpr\n",
      "0       0.34  0.117179  0.517857\n",
      "   threshold       fpr  tpr\n",
      "0       0.35  0.112628  0.5\n",
      "   threshold       fpr       tpr\n",
      "0       0.36  0.109215  0.488095\n",
      "   threshold       fpr       tpr\n",
      "0       0.37  0.102389  0.452381\n",
      "   threshold       fpr       tpr\n",
      "0       0.38  0.089875  0.434524\n",
      "   threshold       fpr       tpr\n",
      "0       0.39  0.086462  0.410714\n",
      "   threshold       fpr       tpr\n",
      "0        0.4  0.076223  0.380952\n",
      "   threshold       fpr       tpr\n",
      "0       0.41  0.069397  0.345238\n",
      "   threshold       fpr       tpr\n",
      "0       0.42  0.064846  0.309524\n",
      "   threshold      fpr       tpr\n",
      "0       0.43  0.05802  0.303571\n",
      "   threshold       fpr       tpr\n",
      "0       0.44  0.046644  0.267857\n",
      "   threshold       fpr       tpr\n",
      "0       0.45  0.045506  0.255952\n",
      "   threshold      fpr       tpr\n",
      "0       0.46  0.03868  0.238095\n",
      "   threshold      fpr       tpr\n",
      "0       0.47  0.03413  0.238095\n",
      "   threshold      fpr       tpr\n",
      "0       0.48  0.03413  0.238095\n",
      "   threshold       fpr      tpr\n",
      "0       0.49  0.031854  0.22619\n",
      "   threshold       fpr       tpr\n",
      "0        0.5  0.028441  0.214286\n",
      "   threshold       fpr       tpr\n",
      "0       0.51  0.025028  0.196429\n",
      "   threshold       fpr       tpr\n",
      "0       0.52  0.023891  0.184524\n",
      "   threshold       fpr       tpr\n",
      "0       0.53  0.022753  0.172619\n",
      "   threshold       fpr       tpr\n",
      "0       0.54  0.021615  0.166667\n",
      "   threshold      fpr       tpr\n",
      "0       0.55  0.01934  0.160714\n",
      "   threshold       fpr      tpr\n",
      "0       0.56  0.017065  0.14881\n",
      "   threshold       fpr       tpr\n",
      "0       0.57  0.015927  0.136905\n",
      "   threshold       fpr    tpr\n",
      "0       0.58  0.013652  0.125\n",
      "   threshold       fpr      tpr\n",
      "0       0.59  0.011377  0.10119\n",
      "   threshold       fpr       tpr\n",
      "0        0.6  0.009101  0.083333\n",
      "   threshold       fpr       tpr\n",
      "0       0.61  0.009101  0.077381\n",
      "   threshold       fpr       tpr\n",
      "0       0.62  0.009101  0.077381\n",
      "   threshold       fpr       tpr\n",
      "0       0.63  0.007964  0.053571\n",
      "   threshold       fpr       tpr\n",
      "0       0.64  0.007964  0.047619\n",
      "   threshold       fpr       tpr\n",
      "0       0.65  0.006826  0.041667\n",
      "   threshold       fpr       tpr\n",
      "0       0.66  0.005688  0.041667\n",
      "   threshold       fpr       tpr\n",
      "0       0.67  0.003413  0.041667\n",
      "   threshold       fpr       tpr\n",
      "0       0.68  0.003413  0.035714\n",
      "   threshold       fpr       tpr\n",
      "0       0.69  0.003413  0.029762\n",
      "   threshold       fpr       tpr\n",
      "0        0.7  0.003413  0.029762\n",
      "   threshold       fpr       tpr\n",
      "0       0.71  0.002275  0.017857\n",
      "   threshold       fpr       tpr\n",
      "0       0.72  0.002275  0.011905\n",
      "   threshold       fpr       tpr\n",
      "0       0.73  0.001138  0.005952\n",
      "   threshold       fpr  tpr\n",
      "0       0.74  0.001138  0.0\n",
      "   threshold  fpr  tpr\n",
      "0       0.75  0.0  0.0\n",
      "   threshold  fpr  tpr\n",
      "0       0.76  0.0  0.0\n",
      "   threshold  fpr  tpr\n",
      "0       0.77  0.0  0.0\n",
      "   threshold  fpr  tpr\n",
      "0       0.78  0.0  0.0\n",
      "   threshold  fpr  tpr\n",
      "0       0.79  0.0  0.0\n",
      "   threshold  fpr  tpr\n",
      "0        0.8  0.0  0.0\n",
      "   threshold  fpr  tpr\n",
      "0       0.81  0.0  0.0\n",
      "   threshold  fpr  tpr\n",
      "0       0.82  0.0  0.0\n",
      "   threshold  fpr  tpr\n",
      "0       0.83  0.0  0.0\n",
      "   threshold  fpr  tpr\n",
      "0       0.84  0.0  0.0\n",
      "   threshold  fpr  tpr\n",
      "0       0.85  0.0  0.0\n",
      "   threshold  fpr  tpr\n",
      "0       0.86  0.0  0.0\n",
      "   threshold  fpr  tpr\n",
      "0       0.87  0.0  0.0\n",
      "   threshold  fpr  tpr\n",
      "0       0.88  0.0  0.0\n",
      "   threshold  fpr  tpr\n",
      "0       0.89  0.0  0.0\n",
      "   threshold  fpr  tpr\n",
      "0        0.9  0.0  0.0\n",
      "   threshold  fpr  tpr\n",
      "0       0.91  0.0  0.0\n",
      "   threshold  fpr  tpr\n",
      "0       0.92  0.0  0.0\n",
      "   threshold  fpr  tpr\n",
      "0       0.93  0.0  0.0\n",
      "   threshold  fpr  tpr\n",
      "0       0.94  0.0  0.0\n",
      "   threshold  fpr  tpr\n",
      "0       0.95  0.0  0.0\n",
      "   threshold  fpr  tpr\n",
      "0       0.96  0.0  0.0\n",
      "   threshold  fpr  tpr\n",
      "0       0.97  0.0  0.0\n",
      "   threshold  fpr  tpr\n",
      "0       0.98  0.0  0.0\n",
      "   threshold  fpr  tpr\n",
      "0       0.99  0.0  0.0\n",
      "   threshold  fpr  tpr\n",
      "0        1.0  0.0  0.0\n"
     ]
    }
   ],
   "source": [
    "import numpy as np\n",
    "for thresh in np.arange(0,1.01,.01):\n",
    "    print(fpr_tpr_thresh(df_train['stroke'], df_train['p-hat'], thresh))"
   ]
  },
  {
   "cell_type": "markdown",
   "metadata": {},
   "source": [
    "Based on the TPR & FPR I chose, the threshold would be ~ .23.\n",
    "\n",
    "This is a good predictive probability threshold because our main goal is to reduce the false negative rate while maximizing our true positive rate. "
   ]
  },
  {
   "cell_type": "markdown",
   "metadata": {},
   "source": [
    "Now we will do the same on the test data to see how well our model performs on new data. "
   ]
  },
  {
   "cell_type": "code",
   "execution_count": 246,
   "metadata": {},
   "outputs": [],
   "source": [
    "df_test['p-hat'] = log_model.predict(df_test)\n",
    "fprs_test, tprs_test, thresholds_test = roc_curve(y_true = df_test['stroke'],\n",
    "                                  y_score = df_test['p-hat'])"
   ]
  },
  {
   "cell_type": "code",
   "execution_count": 247,
   "metadata": {},
   "outputs": [
    {
     "data": {
      "text/plain": [
       "0.8752897031232756"
      ]
     },
     "execution_count": 247,
     "metadata": {},
     "output_type": "execute_result"
    }
   ],
   "source": [
    "from sklearn.metrics import roc_auc_score\n",
    "auc_test = roc_auc_score(y_true = df_test['stroke'],\n",
    "                   y_score = df_test['p-hat'])\n",
    "auc_test"
   ]
  },
  {
   "cell_type": "code",
   "execution_count": 251,
   "metadata": {},
   "outputs": [
    {
     "data": {
      "image/png": "[encoded data removed]",
      "text/plain": [
       "<Figure size 640x480 with 1 Axes>"
      ]
     },
     "metadata": {},
     "output_type": "display_data"
    }
   ],
   "source": [
    "def plot_roc(fpr, tpr, auc, lw = 2):\n",
    "    plt.plot(fpr, tpr, color = 'darkorange',\n",
    "        label = 'ROC curve (area '+str(round(auc, 3))+')')\n",
    "    plt.plot([0, 1], [0, 1], color = 'navy', lw = lw, linestyle = '--')\n",
    "    plt.xlabel('False Positive Rate')\n",
    "    plt.ylabel('True Positive Rate')\n",
    "    plt.title('ROC Curve Test Data')\n",
    "    plt.legend(loc = 'lower right')\n",
    "    plt.show()\n",
    "plot_roc(fprs_test, tprs_test, auc_test)"
   ]
  },
  {
   "cell_type": "code",
   "execution_count": 252,
   "metadata": {},
   "outputs": [
    {
     "data": {
      "text/plain": [
       "0.8376808061108403"
      ]
     },
     "execution_count": 252,
     "metadata": {},
     "output_type": "execute_result"
    }
   ],
   "source": [
    "auc"
   ]
  },
  {
   "cell_type": "code",
   "execution_count": 253,
   "metadata": {},
   "outputs": [
    {
     "data": {
      "text/plain": [
       "0.8752897031232756"
      ]
     },
     "execution_count": 253,
     "metadata": {},
     "output_type": "execute_result"
    }
   ],
   "source": [
    "auc_test"
   ]
  },
  {
   "cell_type": "markdown",
   "metadata": {},
   "source": [
    "Based on these results, our model is able to predict values for new data better than our training data. This suggests our model has learned patterns that carry over to new data allowing for better predictions. \n",
    "Although this could also be a sign of overfitting, the auc on the test data is not significantly higher than the training data so it seems to be okay."
   ]
  },
  {
   "cell_type": "code",
   "execution_count": 257,
   "metadata": {},
   "outputs": [
    {
     "data": {
      "text/html": [
       "<div>\n",
       "<style scoped>\n",
       "    .dataframe tbody tr th:only-of-type {\n",
       "        vertical-align: middle;\n",
       "    }\n",
       "\n",
       "    .dataframe tbody tr th {\n",
       "        vertical-align: top;\n",
       "    }\n",
       "\n",
       "    .dataframe thead th {\n",
       "        text-align: right;\n",
       "    }\n",
       "</style>\n",
       "<table border=\"1\" class=\"dataframe\">\n",
       "  <thead>\n",
       "    <tr style=\"text-align: right;\">\n",
       "      <th>stroke</th>\n",
       "      <th>0</th>\n",
       "      <th>1</th>\n",
       "    </tr>\n",
       "    <tr>\n",
       "      <th>y-hat</th>\n",
       "      <th></th>\n",
       "      <th></th>\n",
       "    </tr>\n",
       "  </thead>\n",
       "  <tbody>\n",
       "    <tr>\n",
       "      <th>0</th>\n",
       "      <td>184</td>\n",
       "      <td>10</td>\n",
       "    </tr>\n",
       "    <tr>\n",
       "      <th>1</th>\n",
       "      <td>37</td>\n",
       "      <td>31</td>\n",
       "    </tr>\n",
       "  </tbody>\n",
       "</table>\n",
       "</div>"
      ],
      "text/plain": [
       "stroke    0   1\n",
       "y-hat          \n",
       "0       184  10\n",
       "1        37  31"
      ]
     },
     "execution_count": 257,
     "metadata": {},
     "output_type": "execute_result"
    }
   ],
   "source": [
    "df_test['y-hat'] = 1 * (df_test['p-hat'] > 0.23)\n",
    "pd.crosstab(df_test['y-hat'], df_test['stroke'])"
   ]
  },
  {
   "cell_type": "code",
   "execution_count": 258,
   "metadata": {},
   "outputs": [
    {
     "data": {
      "text/plain": [
       "0.7560975609756098"
      ]
     },
     "execution_count": 258,
     "metadata": {},
     "output_type": "execute_result"
    }
   ],
   "source": [
    "#Sensitivity \n",
    "31 / (31 + 10)"
   ]
  },
  {
   "cell_type": "code",
   "execution_count": 259,
   "metadata": {},
   "outputs": [
    {
     "data": {
      "text/plain": [
       "0.832579185520362"
      ]
     },
     "execution_count": 259,
     "metadata": {},
     "output_type": "execute_result"
    }
   ],
   "source": [
    "#Specificity \n",
    "184 / (184 + 37)"
   ]
  },
  {
   "cell_type": "code",
   "execution_count": 260,
   "metadata": {},
   "outputs": [
    {
     "data": {
      "text/plain": [
       "0.8206106870229007"
      ]
     },
     "execution_count": 260,
     "metadata": {},
     "output_type": "execute_result"
    }
   ],
   "source": [
    "#Accuracy Rate\n",
    "(184 + 31) / (184 + 10 + 37 + 31)"
   ]
  },
  {
   "cell_type": "markdown",
   "metadata": {},
   "source": [
    "Is there a linear relationship between an individuals age, having hypertension, BMI, and average glucose level, and the log odds of an individual having a stroke?\n",
    "\n",
    "How well will our logistic model perform on training data?\n",
    "\n",
    "How will will our logisitc model perform on new data?\n",
    "\n",
    "This logisitc regresion model allowed us to see the relationship between predictors and the likelihood of having a stroke by estimating coefficients with each predictor. It measures the log-odds of the stroke occurring. It does not assume a linear relationship like linear regression, instead it gives us a linear combination of the predcitors through the function. \n",
    "\n",
    "This technique allowed us to maximize the likelihood of the observed data. Model performance on our training data will assess how the model fits while separating individuals who have had a stroke and those who haven't. \n",
    "\n",
    "By testing our model in the test set we are able to see how well our model would predict based on new, unseen data. This helps us understand its generalizability across different datasets. In this case our test performance outscored our training data indicating it would translate well on new data and provide strong predicitve power. "
   ]
  },
  {
   "cell_type": "markdown",
   "metadata": {},
   "source": [
    "## 4. Descriptive Analytics and Inference"
   ]
  },
  {
   "cell_type": "markdown",
   "metadata": {},
   "source": [
    "Inference Research Questions -\n",
    "\n",
    "What is the relationship between stroke (categorical) and BMI in our dataset?\n",
    "\n",
    "Is there a significant association between BMI and the occurence of stroke in the population based on sample data?"
   ]
  },
  {
   "cell_type": "code",
   "execution_count": 263,
   "metadata": {},
   "outputs": [
    {
     "name": "stdout",
     "output_type": "stream",
     "text": [
      "count    4908.00000\n",
      "mean       28.89456\n",
      "std         7.85432\n",
      "min        10.30000\n",
      "25%        23.50000\n",
      "50%        28.10000\n",
      "75%        33.10000\n",
      "max        97.60000\n",
      "Name: bmi, dtype: float64\n"
     ]
    }
   ],
   "source": [
    "print(df['bmi'].describe())"
   ]
  },
  {
   "cell_type": "code",
   "execution_count": 264,
   "metadata": {},
   "outputs": [
    {
     "data": {
      "text/plain": [
       "0    1100\n",
       "1     209\n",
       "Name: stroke, dtype: int64"
      ]
     },
     "execution_count": 264,
     "metadata": {},
     "output_type": "execute_result"
    }
   ],
   "source": [
    "balanced['stroke'].value_counts()"
   ]
  },
  {
   "cell_type": "markdown",
   "metadata": {},
   "source": [
    "We are going to start analyzing the relationship between these variables by comparing the summary statistics of our two groups, stroke and non-stroke. \n"
   ]
  },
  {
   "cell_type": "code",
   "execution_count": 272,
   "metadata": {},
   "outputs": [],
   "source": [
    "s_yes = balanced[balanced['stroke'] == 1]\n",
    "s_no = balanced[balanced['stroke'] == 0]"
   ]
  },
  {
   "cell_type": "code",
   "execution_count": 281,
   "metadata": {},
   "outputs": [
    {
     "data": {
      "text/plain": [
       "count    209.000000\n",
       "mean      30.471292\n",
       "std        6.329452\n",
       "min       16.900000\n",
       "25%       26.400000\n",
       "50%       29.700000\n",
       "75%       33.700000\n",
       "max       56.600000\n",
       "Name: bmi, dtype: float64"
      ]
     },
     "execution_count": 281,
     "metadata": {},
     "output_type": "execute_result"
    }
   ],
   "source": [
    "#Stroke \n",
    "s_yes['bmi'].describe()"
   ]
  },
  {
   "cell_type": "code",
   "execution_count": 283,
   "metadata": {},
   "outputs": [
    {
     "data": {
      "text/plain": [
       "29.7"
      ]
     },
     "execution_count": 283,
     "metadata": {},
     "output_type": "execute_result"
    }
   ],
   "source": [
    "#Stroke Median\n",
    "s_yes['bmi'].median()"
   ]
  },
  {
   "cell_type": "code",
   "execution_count": 282,
   "metadata": {},
   "outputs": [
    {
     "data": {
      "text/plain": [
       "count    1100.000000\n",
       "mean       28.729636\n",
       "std         7.887646\n",
       "min        11.300000\n",
       "25%        23.200000\n",
       "50%        27.750000\n",
       "75%        33.225000\n",
       "max        63.300000\n",
       "Name: bmi, dtype: float64"
      ]
     },
     "execution_count": 282,
     "metadata": {},
     "output_type": "execute_result"
    }
   ],
   "source": [
    "#No Stroke\n",
    "s_no['bmi'].describe()"
   ]
  },
  {
   "cell_type": "code",
   "execution_count": 284,
   "metadata": {},
   "outputs": [
    {
     "data": {
      "text/plain": [
       "27.75"
      ]
     },
     "execution_count": 284,
     "metadata": {},
     "output_type": "execute_result"
    }
   ],
   "source": [
    "#No Stroke Median\n",
    "s_no['bmi'].median()"
   ]
  },
  {
   "cell_type": "markdown",
   "metadata": {},
   "source": [
    "These summary statistics tell us a few different things, on average individuals who have had a stroke tend to have a higher BMI compared to those who haven't.\n",
    "\n",
    "This indicates there might be some correlation between having a stroke and higher BMI values just in our dataset.\n",
    "\n",
    "But now we are interested in looking at this outside of our data and applying this to the greater population, bringing us to our next question:  \n",
    "\n",
    "\"What is the difference in average Body Mass Index (BMI) between individuals who have experienced a stroke and those who have not?\"\n",
    "\n",
    "Based on this question we are going to investigate the difference in two population means."
   ]
  },
  {
   "cell_type": "code",
   "execution_count": 285,
   "metadata": {},
   "outputs": [
    {
     "data": {
      "image/png": "[encoded data removed]",
      "text/plain": [
       "<Figure size 640x480 with 1 Axes>"
      ]
     },
     "metadata": {},
     "output_type": "display_data"
    }
   ],
   "source": [
    "sns.boxplot(x='stroke', y='bmi', data=balanced)\n",
    "plt.xlabel('Stroke')\n",
    "plt.ylabel('BMI')\n",
    "plt.title('BMI Distribution for Stroke vs. No Stroke')\n",
    "plt.show()"
   ]
  },
  {
   "cell_type": "markdown",
   "metadata": {},
   "source": [
    "Stroke: In general the plot supports that those who have had a stroke tend to have a higher BMI. The larger q3, q1, median and minimum value for those who have had a stroke supports this. There are also a few outliers of extremely higher BMI values. \n",
    "\n",
    "No Stroke: As stated above, on average these individuals have lower BMI values. But the presence of numerous large outliers suggests there are some individuals with very large BMI values who have not experienced a stroke. \n",
    "\n",
    "Based on this distribution it is going to help pick a side and form a hypothesis as we look to analyze the population difference in means for these two groups. "
   ]
  },
  {
   "cell_type": "markdown",
   "metadata": {},
   "source": [
    "Hypothesis: \n",
    "\n",
    "H0 (Null) : There is no difference in the average BMI of individuals who have had a stroke and those who have not. \n",
    "\n",
    "H0: µ1 - µ2 = 0\n",
    "\n",
    "H1 (Alternative) : There is a significant difference in the average BMI of individuals who have experienced a stroke and those who haven't.\n",
    "\n",
    "H1: µ1 - µ2 ≠ 0"
   ]
  },
  {
   "cell_type": "code",
   "execution_count": 291,
   "metadata": {},
   "outputs": [
    {
     "data": {
      "text/plain": [
       "1.7416555023923443"
      ]
     },
     "execution_count": 291,
     "metadata": {},
     "output_type": "execute_result"
    }
   ],
   "source": [
    "#Observed Difference\n",
    "observed_diff = balanced[balanced['stroke']==1]['bmi'].mean() - balanced[balanced['stroke']==0]['bmi'].mean()\n",
    "observed_diff"
   ]
  },
  {
   "cell_type": "code",
   "execution_count": 295,
   "metadata": {},
   "outputs": [
    {
     "data": {
      "text/html": [
       "<div>\n",
       "<style scoped>\n",
       "    .dataframe tbody tr th:only-of-type {\n",
       "        vertical-align: middle;\n",
       "    }\n",
       "\n",
       "    .dataframe tbody tr th {\n",
       "        vertical-align: top;\n",
       "    }\n",
       "\n",
       "    .dataframe thead th {\n",
       "        text-align: right;\n",
       "    }\n",
       "</style>\n",
       "<table border=\"1\" class=\"dataframe\">\n",
       "  <thead>\n",
       "    <tr style=\"text-align: right;\">\n",
       "      <th></th>\n",
       "      <th>BMI</th>\n",
       "    </tr>\n",
       "  </thead>\n",
       "  <tbody>\n",
       "    <tr>\n",
       "      <th>0</th>\n",
       "      <td>1.570383</td>\n",
       "    </tr>\n",
       "    <tr>\n",
       "      <th>1</th>\n",
       "      <td>1.376646</td>\n",
       "    </tr>\n",
       "    <tr>\n",
       "      <th>2</th>\n",
       "      <td>2.013986</td>\n",
       "    </tr>\n",
       "    <tr>\n",
       "      <th>3</th>\n",
       "      <td>1.126388</td>\n",
       "    </tr>\n",
       "    <tr>\n",
       "      <th>4</th>\n",
       "      <td>1.823211</td>\n",
       "    </tr>\n",
       "    <tr>\n",
       "      <th>...</th>\n",
       "      <td>...</td>\n",
       "    </tr>\n",
       "    <tr>\n",
       "      <th>4995</th>\n",
       "      <td>1.910708</td>\n",
       "    </tr>\n",
       "    <tr>\n",
       "      <th>4996</th>\n",
       "      <td>1.212947</td>\n",
       "    </tr>\n",
       "    <tr>\n",
       "      <th>4997</th>\n",
       "      <td>1.334799</td>\n",
       "    </tr>\n",
       "    <tr>\n",
       "      <th>4998</th>\n",
       "      <td>1.561780</td>\n",
       "    </tr>\n",
       "    <tr>\n",
       "      <th>4999</th>\n",
       "      <td>1.199091</td>\n",
       "    </tr>\n",
       "  </tbody>\n",
       "</table>\n",
       "<p>5000 rows × 1 columns</p>\n",
       "</div>"
      ],
      "text/plain": [
       "           BMI\n",
       "0     1.570383\n",
       "1     1.376646\n",
       "2     2.013986\n",
       "3     1.126388\n",
       "4     1.823211\n",
       "...        ...\n",
       "4995  1.910708\n",
       "4996  1.212947\n",
       "4997  1.334799\n",
       "4998  1.561780\n",
       "4999  1.199091\n",
       "\n",
       "[5000 rows x 1 columns]"
      ]
     },
     "execution_count": 295,
     "metadata": {},
     "output_type": "execute_result"
    }
   ],
   "source": [
    "#Hypothesis Test\n",
    "sample_means = []\n",
    "for i in range(5000):\n",
    "    sample = balanced[balanced['stroke']==1]['bmi'].sample(frac=1, replace =True)\n",
    "    sample_no = balanced[balanced['stroke']==0]['bmi'].sample(frac=1, replace =True)\n",
    "    \n",
    "    sample_diff = sample.mean() - sample_no.mean()\n",
    "    sample_means.append(sample_diff)\n",
    "    \n",
    "sample_means = pd.DataFrame({'BMI': sample_means})\n",
    "sample_means"
   ]
  },
  {
   "cell_type": "code",
   "execution_count": 303,
   "metadata": {},
   "outputs": [
    {
     "name": "stdout",
     "output_type": "stream",
     "text": [
      "P-value: BMI    0.4846\n",
      "dtype: float64\n"
     ]
    }
   ],
   "source": [
    "p_val = np.sum(np.abs(sample_means) >= np.abs(observed_diff)) / 5000\n",
    "print(f'P-value: {p_val}')"
   ]
  },
  {
   "cell_type": "markdown",
   "metadata": {},
   "source": [
    "This p-value suggests that approximately 48.46% of the time the difference in mean BMI wil be as or more extreme than the observed difference given that the null hypothesis is true. With significance values being commonly set at .05 or .01, .4846 is greater meaning that we do not have enough evidence to reject the null. \n",
    "\n",
    "Therefore our evidence is not significant enough the conclude there is a difference in mean BMI between individuals who had a stsroke and those who have not in the population from our sample. We fail to reject the null. "
   ]
  },
  {
   "cell_type": "markdown",
   "metadata": {},
   "source": [
    "Inference Research Questions -\n",
    "What is the relationship between stroke (categorical) and BMI in our dataset?\n",
    "\n",
    "Is there a significant association between BMI and the occurence of stroke in the population based on sample data?\n",
    "\n",
    "Based on the summary statistics, individuals who have had a stroke tend to have a higher mean and median. Solely based on these summary statistics we were able to establish some sort of relationship between the variables. This relationship was further investigated through hypothesis testing to see if this assumption would translate outside of our dataset and into the population. \n",
    "\n",
    "Based on our hypothesis test results there was not enough evidence to suggest a significant association between BMI and the occurence of a stroke. This tells us that this assumption made prior is not generalizable to the rest of the population. "
   ]
  },
  {
   "cell_type": "markdown",
   "metadata": {},
   "source": [
    "## 5. Conclusion"
   ]
  },
  {
   "cell_type": "markdown",
   "metadata": {},
   "source": [
    "Conclusion:\n",
    "\n",
    "Based on our analyses of the relationship between the BMI, predictor values, and the occurence of strokes, we were able to sufficiently address our research questions with evidence to support each explanation through the creation of a model. The linear regression model indentified key influential predictors impacting BMI, telling us which varaibles provided the most for our model. These predictors from forward selectoin included: \n",
    "final model = bmi~work_type + avg_glucose_level + ever_married + hypertension + age + smoking_status + heart_disease + stroke\n",
    "\n",
    "From this point we were able to compare our two linear regression models, quantifying the strength of these relationships through measures like adjusted R2. Based on these models we were able to construct an equation for predicting an individuals BMI based on their attributes. \n",
    "\n",
    "Moving onto logisitic regression, this model gave us insight into the log-odds of the likelihood of a stroke occurring. Through our training and test sets, we maximized this likelihood of our observed data. To our pleasant suprise, the test data actually outperformed the training data and provided better predictions on new, unseen data. This is significant as its an example of how models can be used in the real world in order to predict events before they happen, allowing for preventative measures. \n",
    "\n",
    "Finally, through inference and descriptive statistics we explored the relationship between having a stroke and BMI. Based on the summary statisitcs, individuals who had a stroke tended to have a higher mean and median BMI. This is where we established a relationship between our two variables. This relationship was further investigated through hypothesis testing to see if this assumption would translate outside of our dataset and into the population. Based on our hypothesis test results there was not enough evidence to suggest a significant association between BMI and the occurence of a stroke. This tells us that this assumption made prior is not generalizable to the rest of the population.\n",
    "\n",
    "\n",
    "Limitations: \n",
    "\n",
    "The main limitations we faced involved preparing our dataset for analysis. After inspecting variables and certain distributions there were a couple concerns that have been explained thorought in comments like dropping observations and most importantly providing an even distribution for our 'stroke' variable as it was underrepresented and subject to bias. Before making any claims it is important to note this dataset was collected as a sample from the World Health Organization and may not be representative of our population as we have no idea how this sample was collected. \n",
    "\n",
    "Future Work: \n",
    "\n",
    "Future work based on these analyses could lead to further investiagtion into BMI, associated predictors, and storke occurence. This could be substantial research in the medical field, changing the way we view these sudden health risks that are becoming more and more common in our lives. \n",
    "\n",
    "One specific example includes allowing peoplpe to understand early risk factors, prompting people to seek intervention and lifestyle changes to minimize the severity. \n",
    "\n",
    "This could also be used in generating health care policies aimed for stroke prevention. The information of the BMI and other measures can kickstart awareness campaigns and alter nutritional guidelines. \n",
    "\n",
    "Finally research of this nature can lead to medical advancements and innovation. By further exploring these relationships between risk factors and strokes, we can develop treatment, medical plans, etc, by targeting specific risk factors associated with the health issue.\n",
    "\n",
    "\n",
    "\n",
    "\n"
   ]
  },
  {
   "cell_type": "code",
   "execution_count": null,
   "metadata": {},
   "outputs": [],
   "source": []
  }
 ],
 "metadata": {
  "kernelspec": {
   "display_name": "Python 3 (ipykernel)",
   "language": "python",
   "name": "python3"
  },
  "language_info": {
   "codemirror_mode": {
    "name": "ipython",
    "version": 3
   },
   "file_extension": ".py",
   "mimetype": "text/x-python",
   "name": "python",
   "nbconvert_exporter": "python",
   "pygments_lexer": "ipython3",
   "version": "3.10.6"
  }
 },
 "nbformat": 4,
 "nbformat_minor": 4
}
